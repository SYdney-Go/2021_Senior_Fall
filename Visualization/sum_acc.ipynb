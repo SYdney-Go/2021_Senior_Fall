{
 "cells": [
  {
   "cell_type": "code",
   "execution_count": 4,
   "metadata": {},
   "outputs": [],
   "source": [
    "import matplotlib.pyplot as plt\n",
    "import pandas as pd\n",
    "import numpy as np"
   ]
  },
  {
   "cell_type": "code",
   "execution_count": 5,
   "metadata": {},
   "outputs": [],
   "source": [
    "D01_data = pd.read_csv('../Dataset/SA01/D01_SA01_R01.csv', header=None)\n",
    "D18_data = pd.read_csv('../Dataset/SA01/D18_SA01_R01.csv', header=None)\n",
    "F04_data = pd.read_csv('../Dataset/SA01/F04_SA01_R01.csv', header=None)"
   ]
  },
  {
   "cell_type": "code",
   "execution_count": 8,
   "metadata": {},
   "outputs": [],
   "source": [
    "D01_sliced = D01_data.iloc[:, :3]\n",
    "D18_sliced = D18_data.iloc[:, :3]\n",
    "F04_sliced = F04_data.iloc[:, :3]"
   ]
  },
  {
   "cell_type": "code",
   "execution_count": 10,
   "metadata": {},
   "outputs": [
    {
     "name": "stdout",
     "output_type": "stream",
     "text": [
      "(19999, 3)\n",
      "(2400, 3)\n",
      "(3000, 3)\n"
     ]
    }
   ],
   "source": [
    "print(D01_sliced.shape)\n",
    "print(D18_sliced.shape)\n",
    "print(F04_sliced.shape)"
   ]
  },
  {
   "cell_type": "code",
   "execution_count": null,
   "metadata": {},
   "outputs": [],
   "source": [
    "D01 = \n",
    "D18 = \n",
    "F04 = "
   ]
  }
 ],
 "metadata": {
  "interpreter": {
   "hash": "0e56d166fbc896341d80a58b1f49edfebe20bc75f207edfdf6ccda3bd4653dde"
  },
  "kernelspec": {
   "display_name": "Python 3.8.10 64-bit ('Senior_Fall_venv': venv)",
   "language": "python",
   "name": "python3"
  },
  "language_info": {
   "codemirror_mode": {
    "name": "ipython",
    "version": 3
   },
   "file_extension": ".py",
   "mimetype": "text/x-python",
   "name": "python",
   "nbconvert_exporter": "python",
   "pygments_lexer": "ipython3",
   "version": "3.8.10"
  },
  "orig_nbformat": 4
 },
 "nbformat": 4,
 "nbformat_minor": 2
}
