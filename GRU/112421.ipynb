{
 "cells": [
  {
   "cell_type": "code",
   "execution_count": 1,
   "metadata": {},
   "outputs": [],
   "source": [
    "import pandas as pd\n",
    "\n",
    "data = pd.read_csv('../preprocess/202111171547_all.csv')\n",
    "df = pd.DataFrame(data)\n",
    "df = df.dropna()\n",
    "data = df.iloc[:, :-1]\n",
    "target = df['target']"
   ]
  },
  {
   "cell_type": "code",
   "execution_count": 2,
   "metadata": {},
   "outputs": [],
   "source": [
    "from sklearn.model_selection import train_test_split\n",
    "\n",
    "train_input, test_input, train_target, test_target = train_test_split(data, target, test_size=0.2, stratify=target, random_state=0)\n",
    "train_input, val_input, train_target, val_target = train_test_split(train_input, train_target, test_size=0.2, stratify=train_target, random_state=0)"
   ]
  },
  {
   "cell_type": "code",
   "execution_count": 4,
   "metadata": {},
   "outputs": [
    {
     "name": "stdout",
     "output_type": "stream",
     "text": [
      "Model: \"sequential\"\n",
      "_________________________________________________________________\n",
      " Layer (type)                Output Shape              Param #   \n",
      "=================================================================\n",
      " gru (GRU)                   (None, 160, 32)           3360      \n",
      "                                                                 \n",
      " gru_1 (GRU)                 (None, 16)                2400      \n",
      "                                                                 \n",
      " dense (Dense)               (None, 1)                 17        \n",
      "                                                                 \n",
      "=================================================================\n",
      "Total params: 5,777\n",
      "Trainable params: 5,777\n",
      "Non-trainable params: 0\n",
      "_________________________________________________________________\n"
     ]
    }
   ],
   "source": [
    "from tensorflow import keras\n",
    "import tensorflow.keras.backend as K\n",
    "\n",
    "K.clear_session()\n",
    "model = keras.Sequential()\n",
    "model.add(keras.layers.GRU(32, activation=\"tanh\", input_shape=(train_input.shape[1],1), return_sequences=True))\n",
    "model.add(keras.layers.GRU(16, activation=\"tanh\", dropout=0.3))\n",
    "model.add(keras.layers.Dense(1, activation=\"relu\"))\n",
    "\n",
    "model.summary()"
   ]
  },
  {
   "cell_type": "code",
   "execution_count": 18,
   "metadata": {},
   "outputs": [
    {
     "name": "stdout",
     "output_type": "stream",
     "text": [
      "Epoch 1/100\n",
      "64/64 [==============================] - 8s 78ms/step - loss: 0.9473 - accuracy: 0.6026 - val_loss: 0.5961 - val_accuracy: 0.8616\n",
      "Epoch 2/100\n",
      "64/64 [==============================] - 4s 69ms/step - loss: 0.6626 - accuracy: 0.7725 - val_loss: 0.4793 - val_accuracy: 0.8415\n",
      "Epoch 3/100\n",
      "64/64 [==============================] - 4s 70ms/step - loss: 0.5776 - accuracy: 0.8005 - val_loss: 0.5842 - val_accuracy: 0.8616\n",
      "Epoch 4/100\n",
      "64/64 [==============================] - 4s 68ms/step - loss: 0.6031 - accuracy: 0.8084 - val_loss: 0.6331 - val_accuracy: 0.8679\n",
      "Epoch 5/100\n",
      "64/64 [==============================] - 4s 67ms/step - loss: 0.6023 - accuracy: 0.8317 - val_loss: 0.6721 - val_accuracy: 0.7937\n",
      "Epoch 6/100\n",
      "64/64 [==============================] - 4s 68ms/step - loss: 0.6347 - accuracy: 0.8424 - val_loss: 0.5893 - val_accuracy: 0.8642\n",
      "Epoch 7/100\n",
      "64/64 [==============================] - 5s 71ms/step - loss: 0.6064 - accuracy: 0.8367 - val_loss: 0.6131 - val_accuracy: 0.8616\n",
      "Epoch 8/100\n",
      "64/64 [==============================] - 4s 68ms/step - loss: 0.6123 - accuracy: 0.8458 - val_loss: 0.6159 - val_accuracy: 0.8704\n",
      "Epoch 9/100\n",
      "64/64 [==============================] - 4s 68ms/step - loss: 0.5762 - accuracy: 0.8455 - val_loss: 1.8680 - val_accuracy: 0.3648\n",
      "Epoch 10/100\n",
      "64/64 [==============================] - 4s 69ms/step - loss: 0.7183 - accuracy: 0.8024 - val_loss: 1.1938 - val_accuracy: 0.7811\n",
      "Epoch 11/100\n",
      "64/64 [==============================] - 4s 67ms/step - loss: 0.7759 - accuracy: 0.8238 - val_loss: 0.4811 - val_accuracy: 0.8579\n",
      "Epoch 12/100\n",
      "64/64 [==============================] - 4s 70ms/step - loss: 0.5393 - accuracy: 0.8477 - val_loss: 0.5913 - val_accuracy: 0.8704\n",
      "Epoch 13/100\n",
      "64/64 [==============================] - 4s 69ms/step - loss: 0.5329 - accuracy: 0.8524 - val_loss: 0.4914 - val_accuracy: 0.8654\n",
      "Epoch 14/100\n",
      "64/64 [==============================] - 4s 68ms/step - loss: 0.4959 - accuracy: 0.8531 - val_loss: 0.5281 - val_accuracy: 0.8591\n",
      "Epoch 15/100\n",
      "64/64 [==============================] - 4s 69ms/step - loss: 0.5812 - accuracy: 0.8461 - val_loss: 0.6621 - val_accuracy: 0.8667\n",
      "Epoch 16/100\n",
      "64/64 [==============================] - 4s 68ms/step - loss: 0.4999 - accuracy: 0.8549 - val_loss: 0.4942 - val_accuracy: 0.8591\n",
      "Epoch 17/100\n",
      "64/64 [==============================] - 4s 68ms/step - loss: 0.4936 - accuracy: 0.8433 - val_loss: 0.4208 - val_accuracy: 0.8453\n",
      "Epoch 18/100\n",
      "64/64 [==============================] - 4s 68ms/step - loss: 0.5204 - accuracy: 0.8575 - val_loss: 0.5047 - val_accuracy: 0.8616\n",
      "Epoch 19/100\n",
      "64/64 [==============================] - 4s 69ms/step - loss: 0.5315 - accuracy: 0.8480 - val_loss: 0.5664 - val_accuracy: 0.8629\n",
      "Epoch 20/100\n",
      "64/64 [==============================] - 4s 69ms/step - loss: 0.4702 - accuracy: 0.8622 - val_loss: 0.4853 - val_accuracy: 0.8667\n",
      "Epoch 21/100\n",
      "64/64 [==============================] - 4s 70ms/step - loss: 0.4771 - accuracy: 0.8537 - val_loss: 0.4787 - val_accuracy: 0.8604\n",
      "Epoch 22/100\n",
      "64/64 [==============================] - 4s 70ms/step - loss: 0.5198 - accuracy: 0.8468 - val_loss: 0.4127 - val_accuracy: 0.8579\n",
      "Epoch 23/100\n",
      "64/64 [==============================] - 5s 71ms/step - loss: 0.4579 - accuracy: 0.8537 - val_loss: 0.4172 - val_accuracy: 0.8604\n",
      "Epoch 24/100\n",
      "64/64 [==============================] - 4s 68ms/step - loss: 0.5097 - accuracy: 0.8641 - val_loss: 0.7935 - val_accuracy: 0.8591\n",
      "Epoch 25/100\n",
      "64/64 [==============================] - 4s 69ms/step - loss: 0.4603 - accuracy: 0.8622 - val_loss: 0.4578 - val_accuracy: 0.8654\n",
      "Epoch 26/100\n",
      "64/64 [==============================] - 4s 68ms/step - loss: 0.4642 - accuracy: 0.8619 - val_loss: 0.5238 - val_accuracy: 0.8566\n",
      "Epoch 27/100\n",
      "64/64 [==============================] - 4s 69ms/step - loss: 0.4765 - accuracy: 0.8543 - val_loss: 0.4135 - val_accuracy: 0.8616\n",
      "Epoch 28/100\n",
      "64/64 [==============================] - 4s 69ms/step - loss: 0.4717 - accuracy: 0.8653 - val_loss: 0.3852 - val_accuracy: 0.8616\n",
      "Epoch 29/100\n",
      "64/64 [==============================] - 4s 68ms/step - loss: 0.4301 - accuracy: 0.8590 - val_loss: 0.4760 - val_accuracy: 0.8604\n",
      "Epoch 30/100\n",
      "64/64 [==============================] - 4s 69ms/step - loss: 0.4272 - accuracy: 0.8524 - val_loss: 0.3903 - val_accuracy: 0.8591\n",
      "Epoch 31/100\n",
      "64/64 [==============================] - 4s 68ms/step - loss: 0.4008 - accuracy: 0.8641 - val_loss: 0.4164 - val_accuracy: 0.8604\n",
      "Epoch 32/100\n",
      "64/64 [==============================] - 5s 71ms/step - loss: 0.4376 - accuracy: 0.8631 - val_loss: 0.4546 - val_accuracy: 0.8415\n",
      "Epoch 33/100\n",
      "64/64 [==============================] - 4s 69ms/step - loss: 0.4033 - accuracy: 0.8597 - val_loss: 0.4124 - val_accuracy: 0.8654\n",
      "Epoch 34/100\n",
      "64/64 [==============================] - 4s 69ms/step - loss: 0.4188 - accuracy: 0.8672 - val_loss: 0.4354 - val_accuracy: 0.8516\n",
      "Epoch 35/100\n",
      "64/64 [==============================] - 4s 69ms/step - loss: 0.4068 - accuracy: 0.8606 - val_loss: 0.4165 - val_accuracy: 0.8654\n",
      "Epoch 36/100\n",
      "64/64 [==============================] - 4s 69ms/step - loss: 0.4288 - accuracy: 0.8619 - val_loss: 0.4315 - val_accuracy: 0.8642\n",
      "Epoch 37/100\n",
      "64/64 [==============================] - 4s 70ms/step - loss: 0.4142 - accuracy: 0.8694 - val_loss: 0.3847 - val_accuracy: 0.8591\n",
      "Epoch 38/100\n",
      "64/64 [==============================] - 4s 70ms/step - loss: 0.4217 - accuracy: 0.8656 - val_loss: 0.4246 - val_accuracy: 0.8604\n",
      "Epoch 39/100\n",
      "64/64 [==============================] - 5s 71ms/step - loss: 0.4004 - accuracy: 0.8738 - val_loss: 0.3991 - val_accuracy: 0.8692\n",
      "Epoch 40/100\n",
      "64/64 [==============================] - 5s 72ms/step - loss: 0.3858 - accuracy: 0.8741 - val_loss: 0.4118 - val_accuracy: 0.8604\n",
      "Epoch 41/100\n",
      "64/64 [==============================] - 5s 71ms/step - loss: 0.4115 - accuracy: 0.8741 - val_loss: 0.3685 - val_accuracy: 0.8591\n",
      "Epoch 42/100\n",
      "64/64 [==============================] - 5s 71ms/step - loss: 0.3879 - accuracy: 0.8675 - val_loss: 0.4085 - val_accuracy: 0.8642\n",
      "Epoch 43/100\n",
      "64/64 [==============================] - 5s 72ms/step - loss: 0.3965 - accuracy: 0.8726 - val_loss: 0.4148 - val_accuracy: 0.8692\n",
      "Epoch 44/100\n",
      "64/64 [==============================] - 5s 73ms/step - loss: 0.3912 - accuracy: 0.8678 - val_loss: 0.3848 - val_accuracy: 0.8692\n",
      "Epoch 45/100\n",
      "64/64 [==============================] - 5s 72ms/step - loss: 0.3915 - accuracy: 0.8729 - val_loss: 0.3749 - val_accuracy: 0.8679\n",
      "Epoch 46/100\n",
      "64/64 [==============================] - 5s 71ms/step - loss: 0.3809 - accuracy: 0.8707 - val_loss: 0.3555 - val_accuracy: 0.8566\n",
      "Epoch 47/100\n",
      "64/64 [==============================] - 5s 71ms/step - loss: 0.3856 - accuracy: 0.8776 - val_loss: 0.3554 - val_accuracy: 0.8730\n",
      "Epoch 48/100\n",
      "64/64 [==============================] - 5s 72ms/step - loss: 0.3670 - accuracy: 0.8719 - val_loss: 0.3495 - val_accuracy: 0.8566\n",
      "Epoch 49/100\n",
      "64/64 [==============================] - 5s 72ms/step - loss: 0.3747 - accuracy: 0.8801 - val_loss: 0.3422 - val_accuracy: 0.8642\n",
      "Epoch 50/100\n",
      "64/64 [==============================] - 5s 71ms/step - loss: 0.4036 - accuracy: 0.8729 - val_loss: 0.3342 - val_accuracy: 0.8667\n",
      "Epoch 51/100\n",
      "64/64 [==============================] - 5s 71ms/step - loss: 0.3917 - accuracy: 0.8767 - val_loss: 0.3461 - val_accuracy: 0.8742\n",
      "Epoch 52/100\n",
      "64/64 [==============================] - 5s 72ms/step - loss: 0.3990 - accuracy: 0.8785 - val_loss: 0.3648 - val_accuracy: 0.8566\n",
      "Epoch 53/100\n",
      "64/64 [==============================] - 5s 71ms/step - loss: 0.3681 - accuracy: 0.8773 - val_loss: 0.3253 - val_accuracy: 0.8667\n",
      "Epoch 54/100\n",
      "64/64 [==============================] - 5s 73ms/step - loss: 0.3497 - accuracy: 0.8782 - val_loss: 0.3711 - val_accuracy: 0.8742\n",
      "Epoch 55/100\n",
      "64/64 [==============================] - 5s 74ms/step - loss: 0.3786 - accuracy: 0.8833 - val_loss: 0.3653 - val_accuracy: 0.8742\n",
      "Epoch 56/100\n",
      "64/64 [==============================] - 5s 73ms/step - loss: 0.3575 - accuracy: 0.8855 - val_loss: 0.3361 - val_accuracy: 0.8755\n",
      "Epoch 57/100\n",
      "64/64 [==============================] - 5s 73ms/step - loss: 0.3530 - accuracy: 0.8804 - val_loss: 0.3446 - val_accuracy: 0.8704\n",
      "Epoch 58/100\n",
      "64/64 [==============================] - 5s 74ms/step - loss: 0.3520 - accuracy: 0.8829 - val_loss: 0.3253 - val_accuracy: 0.8755\n",
      "Epoch 59/100\n",
      "64/64 [==============================] - 5s 73ms/step - loss: 0.3733 - accuracy: 0.8817 - val_loss: 0.3214 - val_accuracy: 0.8704\n",
      "Epoch 60/100\n",
      "64/64 [==============================] - 5s 73ms/step - loss: 0.3537 - accuracy: 0.8792 - val_loss: 0.3289 - val_accuracy: 0.8755\n",
      "Epoch 61/100\n",
      "64/64 [==============================] - 5s 73ms/step - loss: 0.3369 - accuracy: 0.8776 - val_loss: 0.3391 - val_accuracy: 0.8742\n",
      "Epoch 62/100\n",
      "64/64 [==============================] - 5s 74ms/step - loss: 0.3445 - accuracy: 0.8811 - val_loss: 0.3233 - val_accuracy: 0.8679\n",
      "Epoch 63/100\n",
      "64/64 [==============================] - 5s 73ms/step - loss: 0.3474 - accuracy: 0.8792 - val_loss: 0.3155 - val_accuracy: 0.8730\n",
      "Epoch 64/100\n",
      "64/64 [==============================] - 5s 73ms/step - loss: 0.3496 - accuracy: 0.8823 - val_loss: 0.3430 - val_accuracy: 0.8780\n",
      "Epoch 65/100\n",
      "64/64 [==============================] - 5s 75ms/step - loss: 0.3748 - accuracy: 0.8776 - val_loss: 0.3363 - val_accuracy: 0.8679\n",
      "Epoch 66/100\n",
      "64/64 [==============================] - 5s 75ms/step - loss: 0.3517 - accuracy: 0.8804 - val_loss: 0.3691 - val_accuracy: 0.8730\n",
      "Epoch 67/100\n",
      "64/64 [==============================] - 5s 76ms/step - loss: 0.3346 - accuracy: 0.8807 - val_loss: 0.3361 - val_accuracy: 0.8818\n",
      "Epoch 68/100\n",
      "64/64 [==============================] - 5s 73ms/step - loss: 0.3566 - accuracy: 0.8795 - val_loss: 0.3256 - val_accuracy: 0.8730\n",
      "Epoch 69/100\n",
      "64/64 [==============================] - 5s 75ms/step - loss: 0.3490 - accuracy: 0.8814 - val_loss: 0.3737 - val_accuracy: 0.8579\n",
      "Epoch 70/100\n",
      "64/64 [==============================] - 5s 73ms/step - loss: 0.3557 - accuracy: 0.8767 - val_loss: 0.3519 - val_accuracy: 0.8692\n",
      "Epoch 71/100\n",
      "64/64 [==============================] - 5s 74ms/step - loss: 0.3425 - accuracy: 0.8820 - val_loss: 0.3650 - val_accuracy: 0.8767\n",
      "Epoch 72/100\n",
      "64/64 [==============================] - 5s 74ms/step - loss: 0.3475 - accuracy: 0.8817 - val_loss: 0.3512 - val_accuracy: 0.8679\n",
      "Epoch 73/100\n",
      "64/64 [==============================] - 5s 73ms/step - loss: 0.3584 - accuracy: 0.8685 - val_loss: 0.3277 - val_accuracy: 0.8692\n",
      "Epoch 74/100\n",
      "64/64 [==============================] - 5s 74ms/step - loss: 0.4105 - accuracy: 0.8829 - val_loss: 0.3284 - val_accuracy: 0.8805\n",
      "Epoch 75/100\n",
      "64/64 [==============================] - 5s 74ms/step - loss: 0.3323 - accuracy: 0.8842 - val_loss: 0.3817 - val_accuracy: 0.8730\n",
      "Epoch 76/100\n",
      "64/64 [==============================] - 5s 74ms/step - loss: 0.3470 - accuracy: 0.8861 - val_loss: 0.3139 - val_accuracy: 0.8780\n",
      "Epoch 77/100\n",
      "64/64 [==============================] - 5s 74ms/step - loss: 0.3354 - accuracy: 0.8877 - val_loss: 0.3092 - val_accuracy: 0.8717\n",
      "Epoch 78/100\n",
      "64/64 [==============================] - 5s 73ms/step - loss: 0.3299 - accuracy: 0.8855 - val_loss: 0.3809 - val_accuracy: 0.8767\n",
      "Epoch 79/100\n",
      "64/64 [==============================] - 5s 74ms/step - loss: 0.3189 - accuracy: 0.8896 - val_loss: 0.3258 - val_accuracy: 0.8830\n",
      "Epoch 80/100\n",
      "64/64 [==============================] - 5s 73ms/step - loss: 0.3368 - accuracy: 0.8829 - val_loss: 0.3214 - val_accuracy: 0.8780\n",
      "Epoch 81/100\n",
      "64/64 [==============================] - 5s 73ms/step - loss: 0.3342 - accuracy: 0.8858 - val_loss: 0.3160 - val_accuracy: 0.8792\n",
      "Epoch 82/100\n",
      "64/64 [==============================] - 5s 73ms/step - loss: 0.3275 - accuracy: 0.8839 - val_loss: 0.3912 - val_accuracy: 0.8478\n",
      "Epoch 83/100\n",
      "64/64 [==============================] - 5s 74ms/step - loss: 0.3174 - accuracy: 0.8839 - val_loss: 0.4573 - val_accuracy: 0.8176\n",
      "Epoch 84/100\n",
      "64/64 [==============================] - 5s 72ms/step - loss: 0.3203 - accuracy: 0.8889 - val_loss: 0.3722 - val_accuracy: 0.8780\n",
      "Epoch 85/100\n",
      "64/64 [==============================] - 5s 72ms/step - loss: 0.3222 - accuracy: 0.8848 - val_loss: 0.3504 - val_accuracy: 0.8629\n",
      "Epoch 86/100\n",
      "64/64 [==============================] - 5s 72ms/step - loss: 0.3149 - accuracy: 0.8851 - val_loss: 0.3347 - val_accuracy: 0.8805\n",
      "Epoch 87/100\n",
      "64/64 [==============================] - 5s 75ms/step - loss: 0.3104 - accuracy: 0.8842 - val_loss: 0.3181 - val_accuracy: 0.8742\n",
      "Epoch 88/100\n",
      "64/64 [==============================] - 5s 75ms/step - loss: 0.3352 - accuracy: 0.8855 - val_loss: 0.3548 - val_accuracy: 0.8767\n",
      "Epoch 89/100\n",
      "64/64 [==============================] - 5s 73ms/step - loss: 0.3193 - accuracy: 0.8911 - val_loss: 0.6236 - val_accuracy: 0.8792\n",
      "Epoch 90/100\n",
      "64/64 [==============================] - 5s 73ms/step - loss: 0.3341 - accuracy: 0.8820 - val_loss: 0.3370 - val_accuracy: 0.8818\n",
      "Epoch 91/100\n",
      "64/64 [==============================] - 5s 75ms/step - loss: 0.3376 - accuracy: 0.8896 - val_loss: 0.3662 - val_accuracy: 0.8918\n",
      "Epoch 92/100\n",
      "64/64 [==============================] - 5s 73ms/step - loss: 0.3210 - accuracy: 0.8874 - val_loss: 0.3772 - val_accuracy: 0.8855\n"
     ]
    }
   ],
   "source": [
    "model.compile(optimizer='rmsprop', \n",
    "              loss='binary_crossentropy', \n",
    "              metrics=['accuracy'])\n",
    "\n",
    "checkpoint_cb = keras.callbacks.ModelCheckpoint('11241550-best-gru-model.h5')\n",
    "early_stopping_cb = keras.callbacks.EarlyStopping(patience = 15, restore_best_weights=True)\n",
    "\n",
    "history = model.fit(train_input, train_target, \n",
    "                    epochs=100, batch_size = 50,\n",
    "                    validation_data = (val_input, val_target),\n",
    "                    callbacks=[checkpoint_cb, early_stopping_cb])"
   ]
  },
  {
   "cell_type": "code",
   "execution_count": 19,
   "metadata": {},
   "outputs": [
    {
     "name": "stdout",
     "output_type": "stream",
     "text": [
      "25/25 [==============================] - 0s 14ms/step - loss: 0.3092 - accuracy: 0.8717\n"
     ]
    },
    {
     "data": {
      "text/plain": [
       "[0.30923259258270264, 0.8716981410980225]"
      ]
     },
     "execution_count": 19,
     "metadata": {},
     "output_type": "execute_result"
    }
   ],
   "source": [
    "model.evaluate(val_input, val_target)"
   ]
  },
  {
   "cell_type": "code",
   "execution_count": 20,
   "metadata": {},
   "outputs": [
    {
     "name": "stdout",
     "output_type": "stream",
     "text": [
      "32/32 [==============================] - 0s 13ms/step - loss: 0.3326 - accuracy: 0.8934\n"
     ]
    },
    {
     "data": {
      "text/plain": [
       "[0.33256348967552185, 0.8933601379394531]"
      ]
     },
     "execution_count": 20,
     "metadata": {},
     "output_type": "execute_result"
    }
   ],
   "source": [
    "model.evaluate(test_input, test_target)"
   ]
  },
  {
   "cell_type": "code",
   "execution_count": null,
   "metadata": {},
   "outputs": [],
   "source": []
  }
 ],
 "metadata": {
  "interpreter": {
   "hash": "0e56d166fbc896341d80a58b1f49edfebe20bc75f207edfdf6ccda3bd4653dde"
  },
  "kernelspec": {
   "display_name": "Python 3.8.10 64-bit ('Senior_Fall_venv': venv)",
   "language": "python",
   "name": "python3"
  },
  "language_info": {
   "codemirror_mode": {
    "name": "ipython",
    "version": 3
   },
   "file_extension": ".py",
   "mimetype": "text/x-python",
   "name": "python",
   "nbconvert_exporter": "python",
   "pygments_lexer": "ipython3",
   "version": "3.8.10"
  },
  "orig_nbformat": 4
 },
 "nbformat": 4,
 "nbformat_minor": 2
}
