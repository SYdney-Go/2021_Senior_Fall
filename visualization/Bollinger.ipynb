{
 "cells": [
  {
   "cell_type": "code",
   "execution_count": 283,
   "metadata": {},
   "outputs": [],
   "source": [
    "import matplotlib.pyplot as plt\n",
    "import pandas as pd\n",
    "import numpy as np\n",
    "import matplotlib.font_manager as fm"
   ]
  },
  {
   "cell_type": "code",
   "execution_count": 305,
   "metadata": {},
   "outputs": [
    {
     "data": {
      "text/html": [
       "<div>\n",
       "<style scoped>\n",
       "    .dataframe tbody tr th:only-of-type {\n",
       "        vertical-align: middle;\n",
       "    }\n",
       "\n",
       "    .dataframe tbody tr th {\n",
       "        vertical-align: top;\n",
       "    }\n",
       "\n",
       "    .dataframe thead th {\n",
       "        text-align: right;\n",
       "    }\n",
       "</style>\n",
       "<table border=\"1\" class=\"dataframe\">\n",
       "  <thead>\n",
       "    <tr style=\"text-align: right;\">\n",
       "      <th></th>\n",
       "      <th>x축 가속도</th>\n",
       "      <th>y축 가속도</th>\n",
       "      <th>z축 가속도</th>\n",
       "    </tr>\n",
       "  </thead>\n",
       "  <tbody>\n",
       "    <tr>\n",
       "      <th>0</th>\n",
       "      <td>-1</td>\n",
       "      <td>-270</td>\n",
       "      <td>-22</td>\n",
       "    </tr>\n",
       "    <tr>\n",
       "      <th>1</th>\n",
       "      <td>1</td>\n",
       "      <td>-277</td>\n",
       "      <td>-24</td>\n",
       "    </tr>\n",
       "    <tr>\n",
       "      <th>2</th>\n",
       "      <td>2</td>\n",
       "      <td>-281</td>\n",
       "      <td>-25</td>\n",
       "    </tr>\n",
       "    <tr>\n",
       "      <th>3</th>\n",
       "      <td>11</td>\n",
       "      <td>-290</td>\n",
       "      <td>-24</td>\n",
       "    </tr>\n",
       "    <tr>\n",
       "      <th>4</th>\n",
       "      <td>12</td>\n",
       "      <td>-296</td>\n",
       "      <td>-29</td>\n",
       "    </tr>\n",
       "    <tr>\n",
       "      <th>...</th>\n",
       "      <td>...</td>\n",
       "      <td>...</td>\n",
       "      <td>...</td>\n",
       "    </tr>\n",
       "    <tr>\n",
       "      <th>2394</th>\n",
       "      <td>-119</td>\n",
       "      <td>71</td>\n",
       "      <td>-246</td>\n",
       "    </tr>\n",
       "    <tr>\n",
       "      <th>2395</th>\n",
       "      <td>-120</td>\n",
       "      <td>73</td>\n",
       "      <td>-242</td>\n",
       "    </tr>\n",
       "    <tr>\n",
       "      <th>2396</th>\n",
       "      <td>-117</td>\n",
       "      <td>68</td>\n",
       "      <td>-245</td>\n",
       "    </tr>\n",
       "    <tr>\n",
       "      <th>2397</th>\n",
       "      <td>-119</td>\n",
       "      <td>69</td>\n",
       "      <td>-248</td>\n",
       "    </tr>\n",
       "    <tr>\n",
       "      <th>2398</th>\n",
       "      <td>-121</td>\n",
       "      <td>72</td>\n",
       "      <td>-246</td>\n",
       "    </tr>\n",
       "  </tbody>\n",
       "</table>\n",
       "<p>2399 rows × 3 columns</p>\n",
       "</div>"
      ],
      "text/plain": [
       "      x축 가속도  y축 가속도  z축 가속도\n",
       "0         -1    -270     -22\n",
       "1          1    -277     -24\n",
       "2          2    -281     -25\n",
       "3         11    -290     -24\n",
       "4         12    -296     -29\n",
       "...      ...     ...     ...\n",
       "2394    -119      71    -246\n",
       "2395    -120      73    -242\n",
       "2396    -117      68    -245\n",
       "2397    -119      69    -248\n",
       "2398    -121      72    -246\n",
       "\n",
       "[2399 rows x 3 columns]"
      ]
     },
     "execution_count": 305,
     "metadata": {},
     "output_type": "execute_result"
    }
   ],
   "source": [
    "data = pd.read_csv('../Dataset/SA01/F01_SA01_R01_fin.csv',)\n",
    "df = pd.DataFrame(data)\n",
    "df = df.iloc[:,:3]\n",
    "df = df.dropna(axis = 0)\n",
    "df.columns = [\"x축 가속도\", \"y축 가속도\", \"z축 가속도\"]\n",
    "df"
   ]
  },
  {
   "cell_type": "code",
   "execution_count": 306,
   "metadata": {},
   "outputs": [],
   "source": [
    "x_acc = df[[\"x축 가속도\"]]\n",
    "y_acc = df[[\"y축 가속도\"]]\n",
    "z_acc = df[[\"z축 가속도\"]]\n",
    "\n",
    "x_square = x_acc * x_acc\n",
    "y_square = y_acc * y_acc\n",
    "z_square = z_acc * z_acc\n",
    "\n",
    "df = pd.concat([x_square, y_square, z_square], axis=1)\n",
    "df[\"sum\"] = df.sum(1)\n",
    "df[\"sqrt_sum\"]= np.sqrt(df[\"sum\"])"
   ]
  },
  {
   "cell_type": "code",
   "execution_count": 335,
   "metadata": {},
   "outputs": [
    {
     "name": "stdout",
     "output_type": "stream",
     "text": [
      "False    2095\n",
      "dtype: int64 False    2095\n",
      "dtype: int64\n"
     ]
    }
   ],
   "source": [
    "df[\"Mean\"] = df[\"sqrt_sum\"].rolling(window=50).mean()\n",
    "df[\"Steddev\"] = df[\"sqrt_sum\"].rolling(window=50).std()\n",
    "df[\"Upper\"] = df[\"Mean\"] + 2.5*df[\"Steddev\"]\n",
    "df[\"Lower\"] = df[\"Mean\"] - 2.5*df[\"Steddev\"]\n",
    "\n",
    "df = df[49:]\n",
    "\n",
    "up = (df[\"Upper\"] < df['Mean']).value_counts()\n",
    "down = (df[\"Lower\"] > df['Mean']).value_counts()\n",
    "print(up, down)"
   ]
  },
  {
   "cell_type": "code",
   "execution_count": 336,
   "metadata": {},
   "outputs": [
    {
     "data": {
      "text/plain": [
       "<matplotlib.legend.Legend at 0x7fd56f6c4d90>"
      ]
     },
     "execution_count": 336,
     "metadata": {},
     "output_type": "execute_result"
    },
    {
     "data": {
      "image/png": "[encoded data removed]",
      "text/plain": [
       "<Figure size 720x576 with 1 Axes>"
      ]
     },
     "metadata": {
      "needs_background": "light"
     },
     "output_type": "display_data"
    }
   ],
   "source": [
    "path = '../../../../../usr/share/fonts/truetype/nanum/NanumBarunGothic.ttf'\n",
    "prop = fm.FontProperties(fname=path)\n",
    "\n",
    "\n",
    "plt.figure(figsize=(10, 8))\n",
    "plt.rcParams['figure.figsize'] = (15, 10)\n",
    "plt.rcParams['lines.linewidth'] = 0.5\n",
    "\n",
    "plt.title(\"N = 50, K = 2.5\", pad=15, size=15,  fontproperties=prop)\n",
    "\n",
    "plt.plot(df.index, df['Mean'], label='Moving Average 50', color = \"orange\", linewidth=2.0)\n",
    "plt.plot(df.index, df['Upper'], label='Upper band', color = \"lightgray\", linewidth=2.0)\n",
    "plt.plot(df.index, df['Lower'], label='Lower band', color = \"lightgray\",  linewidth=2.0)\n",
    "\n",
    "# plt.fill_between(df['Upper'],  df['Lower'], color='lightgray', alpha=0.5)\n",
    "plt.axis([1000, 2000, -2000, 3500])\n",
    "plt.legend()"
   ]
  },
  {
   "cell_type": "code",
   "execution_count": 281,
   "metadata": {},
   "outputs": [
    {
     "ename": "NameError",
     "evalue": "name 'fm' is not defined",
     "output_type": "error",
     "traceback": [
      "\u001b[0;31m---------------------------------------------------------------------------\u001b[0m",
      "\u001b[0;31mNameError\u001b[0m                                 Traceback (most recent call last)",
      "\u001b[0;32m/tmp/ipykernel_256358/2003236634.py\u001b[0m in \u001b[0;36m<module>\u001b[0;34m\u001b[0m\n\u001b[1;32m      1\u001b[0m \u001b[0mpath\u001b[0m \u001b[0;34m=\u001b[0m \u001b[0;34m'../../../../../usr/share/fonts/truetype/nanum/NanumBarunGothic.ttf'\u001b[0m\u001b[0;34m\u001b[0m\u001b[0;34m\u001b[0m\u001b[0m\n\u001b[0;32m----> 2\u001b[0;31m \u001b[0mprop\u001b[0m \u001b[0;34m=\u001b[0m \u001b[0mfm\u001b[0m\u001b[0;34m.\u001b[0m\u001b[0mFontProperties\u001b[0m\u001b[0;34m(\u001b[0m\u001b[0mfname\u001b[0m\u001b[0;34m=\u001b[0m\u001b[0mpath\u001b[0m\u001b[0;34m)\u001b[0m\u001b[0;34m\u001b[0m\u001b[0;34m\u001b[0m\u001b[0m\n\u001b[0m\u001b[1;32m      3\u001b[0m \u001b[0;34m\u001b[0m\u001b[0m\n\u001b[1;32m      4\u001b[0m \u001b[0;34m\u001b[0m\u001b[0m\n\u001b[1;32m      5\u001b[0m \u001b[0mplt\u001b[0m\u001b[0;34m.\u001b[0m\u001b[0mfigure\u001b[0m\u001b[0;34m(\u001b[0m\u001b[0mfigsize\u001b[0m\u001b[0;34m=\u001b[0m\u001b[0;34m(\u001b[0m\u001b[0;36m6\u001b[0m\u001b[0;34m,\u001b[0m\u001b[0;36m5\u001b[0m\u001b[0;34m)\u001b[0m\u001b[0;34m)\u001b[0m\u001b[0;34m\u001b[0m\u001b[0;34m\u001b[0m\u001b[0m\n",
      "\u001b[0;31mNameError\u001b[0m: name 'fm' is not defined"
     ]
    }
   ],
   "source": [
    "path = '../../../../../usr/share/fonts/truetype/nanum/NanumBarunGothic.ttf'\n",
    "prop = fm.FontProperties(fname=path)\n",
    "\n",
    "\n",
    "plt.figure(figsize=(6,5))\n",
    "plt.rcParams['figure.figsize'] = (15, 10)\n",
    "plt.rcParams['lines.linewidth'] = 0.5\n",
    "\n",
    "plt.title(\"인공지능 알고리즘에 따른 정확도 결과\", pad=15, size=15,  fontproperties=prop)\n",
    "\n",
    "Acc = ['C1', 'C2', 'C8', 'C9']\n",
    "index = np.arange(len(Acc))\n",
    "LSTM = [80.5, 77.8, 79.2, ]\n",
    "GRU = [81.5, 78.0, 80.1]\n",
    "\n",
    "bar_width = 0.2\n",
    "plt.bar(index - 0.12, Int, bar_width, label = 'LSTM', color = \"peru\")\n",
    "plt.bar(index + 0.12, Float, bar_width, label = 'GRU', color = \"orange\")\n",
    "plt.xticks([0, 1, 2, 3], ['C1', 'C2', 'C8', 'C9'])\n",
    "plt.yticks([0, 10, 20, 30, 40, 50, 60, 70, 80, 90, 100])\n",
    "plt.ylim([60, 100])\n",
    "plt.xlabel('단위: %', labelpad=7, fontproperties=prop)\n",
    "plt.legend(['LSTM', 'GRU'])"
   ]
  },
  {
   "cell_type": "code",
   "execution_count": null,
   "metadata": {},
   "outputs": [],
   "source": []
  },
  {
   "cell_type": "code",
   "execution_count": null,
   "metadata": {},
   "outputs": [],
   "source": []
  }
 ],
 "metadata": {
  "interpreter": {
   "hash": "0e56d166fbc896341d80a58b1f49edfebe20bc75f207edfdf6ccda3bd4653dde"
  },
  "kernelspec": {
   "display_name": "Python 3.8.10 64-bit ('Senior_Fall_venv': venv)",
   "language": "python",
   "name": "python3"
  },
  "language_info": {
   "codemirror_mode": {
    "name": "ipython",
    "version": 3
   },
   "file_extension": ".py",
   "mimetype": "text/x-python",
   "name": "python",
   "nbconvert_exporter": "python",
   "pygments_lexer": "ipython3",
   "version": "3.8.10"
  },
  "orig_nbformat": 4
 },
 "nbformat": 4,
 "nbformat_minor": 2
}
