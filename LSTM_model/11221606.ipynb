{
 "cells": [
  {
   "cell_type": "code",
   "execution_count": 2,
   "metadata": {},
   "outputs": [],
   "source": [
    "import pandas as pd\n",
    "\n",
    "data = pd.read_csv('../preprocess/202111171547_all.csv')\n",
    "df = pd.DataFrame(data)\n",
    "df = df.dropna()\n",
    "data = df.iloc[:, :-1]\n",
    "target = df['target']"
   ]
  },
  {
   "cell_type": "code",
   "execution_count": 3,
   "metadata": {},
   "outputs": [],
   "source": [
    "from sklearn.model_selection import train_test_split\n",
    "\n",
    "train_input, test_input, train_target, test_target = train_test_split(data, target, test_size=0.2, stratify=target, random_state=0)\n",
    "train_input, val_input, train_target, val_target = train_test_split(train_input, train_target, test_size=0.2, stratify=train_target, random_state=0)"
   ]
  },
  {
   "cell_type": "code",
   "execution_count": 6,
   "metadata": {},
   "outputs": [
    {
     "name": "stdout",
     "output_type": "stream",
     "text": [
      "Model: \"sequential\"\n",
      "_________________________________________________________________\n",
      " Layer (type)                Output Shape              Param #   \n",
      "=================================================================\n",
      " lstm (LSTM)                 (None, 160, 15)           1020      \n",
      "                                                                 \n",
      " lstm_1 (LSTM)               (None, 7)                 644       \n",
      "                                                                 \n",
      " dense (Dense)               (None, 1)                 8         \n",
      "                                                                 \n",
      "=================================================================\n",
      "Total params: 1,672\n",
      "Trainable params: 1,672\n",
      "Non-trainable params: 0\n",
      "_________________________________________________________________\n"
     ]
    }
   ],
   "source": [
    "from tensorflow import keras\n",
    "import tensorflow.keras.backend as K\n",
    "\n",
    "K.clear_session()\n",
    "model = keras.Sequential()\n",
    "model.add(keras.layers.LSTM(15, activation=\"tanh\", input_shape=(train_input.shape[1],1), return_sequences=True))\n",
    "model.add(keras.layers.LSTM(7, activation=\"tanh\", dropout=0.3))\n",
    "model.add(keras.layers.Dense(1, activation=\"relu\"))\n",
    "\n",
    "model.summary()"
   ]
  },
  {
   "cell_type": "code",
   "execution_count": 7,
   "metadata": {},
   "outputs": [
    {
     "name": "stdout",
     "output_type": "stream",
     "text": [
      "Epoch 1/100\n",
      "64/64 [==============================] - 4s 25ms/step - loss: 1.8844 - accuracy: 0.6233 - val_loss: 0.6590 - val_accuracy: 0.6453\n",
      "Epoch 2/100\n",
      "64/64 [==============================] - 1s 15ms/step - loss: 0.6389 - accuracy: 0.6498 - val_loss: 0.6101 - val_accuracy: 0.6730\n",
      "Epoch 3/100\n",
      "64/64 [==============================] - 1s 13ms/step - loss: 0.5716 - accuracy: 0.7379 - val_loss: 0.5422 - val_accuracy: 0.7321\n",
      "Epoch 4/100\n",
      "64/64 [==============================] - 1s 14ms/step - loss: 0.5041 - accuracy: 0.8131 - val_loss: 0.5008 - val_accuracy: 0.7799\n",
      "Epoch 5/100\n",
      "64/64 [==============================] - 1s 14ms/step - loss: 0.4950 - accuracy: 0.8436 - val_loss: 0.5472 - val_accuracy: 0.8717\n",
      "Epoch 6/100\n",
      "64/64 [==============================] - 1s 13ms/step - loss: 0.4922 - accuracy: 0.8483 - val_loss: 0.5180 - val_accuracy: 0.8591\n",
      "Epoch 7/100\n",
      "64/64 [==============================] - 1s 13ms/step - loss: 0.4589 - accuracy: 0.8565 - val_loss: 0.5232 - val_accuracy: 0.7799\n",
      "Epoch 8/100\n",
      "64/64 [==============================] - 1s 13ms/step - loss: 0.4222 - accuracy: 0.8458 - val_loss: 0.4448 - val_accuracy: 0.8101\n",
      "Epoch 9/100\n",
      "64/64 [==============================] - 1s 14ms/step - loss: 0.4266 - accuracy: 0.8565 - val_loss: 0.3973 - val_accuracy: 0.8553\n",
      "Epoch 10/100\n",
      "64/64 [==============================] - 1s 13ms/step - loss: 0.3845 - accuracy: 0.8612 - val_loss: 0.4614 - val_accuracy: 0.8214\n",
      "Epoch 11/100\n",
      "64/64 [==============================] - 1s 13ms/step - loss: 0.4209 - accuracy: 0.8562 - val_loss: 0.3720 - val_accuracy: 0.8717\n",
      "Epoch 12/100\n",
      "64/64 [==============================] - 1s 13ms/step - loss: 0.4016 - accuracy: 0.8612 - val_loss: 0.4072 - val_accuracy: 0.8465\n",
      "Epoch 13/100\n",
      "64/64 [==============================] - 1s 14ms/step - loss: 0.3932 - accuracy: 0.8634 - val_loss: 0.5975 - val_accuracy: 0.7145\n",
      "Epoch 14/100\n",
      "64/64 [==============================] - 1s 13ms/step - loss: 0.3993 - accuracy: 0.8556 - val_loss: 0.3841 - val_accuracy: 0.8553\n",
      "Epoch 15/100\n",
      "64/64 [==============================] - 1s 13ms/step - loss: 0.4094 - accuracy: 0.8600 - val_loss: 0.4012 - val_accuracy: 0.8642\n",
      "Epoch 16/100\n",
      "64/64 [==============================] - 1s 13ms/step - loss: 0.3940 - accuracy: 0.8634 - val_loss: 0.3680 - val_accuracy: 0.8642\n",
      "Epoch 17/100\n",
      "64/64 [==============================] - 1s 12ms/step - loss: 0.3815 - accuracy: 0.8653 - val_loss: 0.4103 - val_accuracy: 0.8415\n",
      "Epoch 18/100\n",
      "64/64 [==============================] - 1s 13ms/step - loss: 0.3862 - accuracy: 0.8575 - val_loss: 0.3856 - val_accuracy: 0.8541\n",
      "Epoch 19/100\n",
      "64/64 [==============================] - 1s 13ms/step - loss: 0.3985 - accuracy: 0.8628 - val_loss: 0.3834 - val_accuracy: 0.8604\n",
      "Epoch 20/100\n",
      "64/64 [==============================] - 1s 13ms/step - loss: 0.3911 - accuracy: 0.8748 - val_loss: 0.4227 - val_accuracy: 0.8767\n",
      "Epoch 21/100\n",
      "64/64 [==============================] - 1s 13ms/step - loss: 0.3867 - accuracy: 0.8660 - val_loss: 0.3670 - val_accuracy: 0.8642\n",
      "Epoch 22/100\n",
      "64/64 [==============================] - 1s 13ms/step - loss: 0.3778 - accuracy: 0.8719 - val_loss: 0.5398 - val_accuracy: 0.8730\n",
      "Epoch 23/100\n",
      "64/64 [==============================] - 1s 12ms/step - loss: 0.3864 - accuracy: 0.8694 - val_loss: 0.3606 - val_accuracy: 0.8679\n",
      "Epoch 24/100\n",
      "64/64 [==============================] - 1s 13ms/step - loss: 0.3849 - accuracy: 0.8697 - val_loss: 0.4327 - val_accuracy: 0.8503\n",
      "Epoch 25/100\n",
      "64/64 [==============================] - 1s 13ms/step - loss: 0.3774 - accuracy: 0.8682 - val_loss: 0.3995 - val_accuracy: 0.8516\n",
      "Epoch 26/100\n",
      "64/64 [==============================] - 1s 13ms/step - loss: 0.3584 - accuracy: 0.8694 - val_loss: 0.3839 - val_accuracy: 0.8629\n",
      "Epoch 27/100\n",
      "64/64 [==============================] - 1s 13ms/step - loss: 0.3641 - accuracy: 0.8713 - val_loss: 0.3506 - val_accuracy: 0.8755\n",
      "Epoch 28/100\n",
      "64/64 [==============================] - 1s 13ms/step - loss: 0.3745 - accuracy: 0.8682 - val_loss: 0.3861 - val_accuracy: 0.8591\n",
      "Epoch 29/100\n",
      "64/64 [==============================] - 1s 13ms/step - loss: 0.3640 - accuracy: 0.8716 - val_loss: 0.3623 - val_accuracy: 0.8667\n",
      "Epoch 30/100\n",
      "64/64 [==============================] - 1s 13ms/step - loss: 0.3746 - accuracy: 0.8688 - val_loss: 0.3625 - val_accuracy: 0.8679\n",
      "Epoch 31/100\n",
      "64/64 [==============================] - 1s 13ms/step - loss: 0.3737 - accuracy: 0.8735 - val_loss: 0.4115 - val_accuracy: 0.8730\n",
      "Epoch 32/100\n",
      "64/64 [==============================] - 1s 14ms/step - loss: 0.3818 - accuracy: 0.8716 - val_loss: 0.3968 - val_accuracy: 0.8679\n",
      "----------------------------------\n",
      "25/25 [==============================] - 0s 6ms/step - loss: 0.3506 - accuracy: 0.8755\n"
     ]
    },
    {
     "data": {
      "text/plain": [
       "[0.35064828395843506, 0.8754717111587524]"
      ]
     },
     "execution_count": 7,
     "metadata": {},
     "output_type": "execute_result"
    }
   ],
   "source": [
    "model.compile(optimizer='rmsprop', \n",
    "              loss='binary_crossentropy', \n",
    "              metrics=['accuracy'])\n",
    "\n",
    "early_stopping_cb = keras.callbacks.EarlyStopping(patience = 5, restore_best_weights=True)\n",
    "\n",
    "history = model.fit(train_input, train_target, \n",
    "                    epochs=100, batch_size = 50,\n",
    "                    validation_data = (val_input, val_target),\n",
    "                    callbacks=[early_stopping_cb])\n",
    "\n",
    "print('----------------------------------')\n",
    "model.evaluate(val_input, val_target)"
   ]
  },
  {
   "cell_type": "code",
   "execution_count": 8,
   "metadata": {},
   "outputs": [
    {
     "name": "stdout",
     "output_type": "stream",
     "text": [
      "Epoch 1/100\n",
      "64/64 [==============================] - 4s 29ms/step - loss: 0.3721 - accuracy: 0.8751 - val_loss: 0.3825 - val_accuracy: 0.8667\n",
      "Epoch 2/100\n",
      "64/64 [==============================] - 1s 15ms/step - loss: 0.3938 - accuracy: 0.8767 - val_loss: 0.3873 - val_accuracy: 0.8692\n",
      "Epoch 3/100\n",
      "64/64 [==============================] - 1s 14ms/step - loss: 0.3737 - accuracy: 0.8776 - val_loss: 0.3550 - val_accuracy: 0.8679\n",
      "Epoch 4/100\n",
      "64/64 [==============================] - 1s 14ms/step - loss: 0.3648 - accuracy: 0.8779 - val_loss: 0.3917 - val_accuracy: 0.8692\n",
      "Epoch 5/100\n",
      "64/64 [==============================] - 1s 14ms/step - loss: 0.3876 - accuracy: 0.8685 - val_loss: 0.3896 - val_accuracy: 0.8692\n",
      "Epoch 6/100\n",
      "64/64 [==============================] - 1s 14ms/step - loss: 0.3880 - accuracy: 0.8770 - val_loss: 0.3932 - val_accuracy: 0.8629\n",
      "Epoch 7/100\n",
      "64/64 [==============================] - 1s 14ms/step - loss: 0.3562 - accuracy: 0.8792 - val_loss: 0.3629 - val_accuracy: 0.8679\n",
      "Epoch 8/100\n",
      "64/64 [==============================] - 1s 14ms/step - loss: 0.3468 - accuracy: 0.8798 - val_loss: 0.3546 - val_accuracy: 0.8730\n",
      "Epoch 9/100\n",
      "64/64 [==============================] - 1s 14ms/step - loss: 0.3487 - accuracy: 0.8776 - val_loss: 0.3702 - val_accuracy: 0.8679\n",
      "Epoch 10/100\n",
      "64/64 [==============================] - 1s 14ms/step - loss: 0.3395 - accuracy: 0.8861 - val_loss: 0.3854 - val_accuracy: 0.8642\n",
      "Epoch 11/100\n",
      "64/64 [==============================] - 1s 13ms/step - loss: 0.3443 - accuracy: 0.8773 - val_loss: 0.3517 - val_accuracy: 0.8679\n",
      "Epoch 12/100\n",
      "64/64 [==============================] - 1s 13ms/step - loss: 0.3561 - accuracy: 0.8738 - val_loss: 0.3519 - val_accuracy: 0.8717\n",
      "Epoch 13/100\n",
      "64/64 [==============================] - 1s 14ms/step - loss: 0.3631 - accuracy: 0.8763 - val_loss: 0.3540 - val_accuracy: 0.8730\n",
      "Epoch 14/100\n",
      "64/64 [==============================] - 1s 13ms/step - loss: 0.3421 - accuracy: 0.8820 - val_loss: 0.3887 - val_accuracy: 0.8616\n",
      "Epoch 15/100\n",
      "64/64 [==============================] - 1s 13ms/step - loss: 0.3599 - accuracy: 0.8779 - val_loss: 0.3523 - val_accuracy: 0.8742\n",
      "Epoch 16/100\n",
      "64/64 [==============================] - 1s 13ms/step - loss: 0.3417 - accuracy: 0.8801 - val_loss: 0.3499 - val_accuracy: 0.8717\n",
      "Epoch 17/100\n",
      "64/64 [==============================] - 1s 13ms/step - loss: 0.3427 - accuracy: 0.8779 - val_loss: 0.3631 - val_accuracy: 0.8679\n",
      "Epoch 18/100\n",
      "64/64 [==============================] - 1s 13ms/step - loss: 0.3570 - accuracy: 0.8776 - val_loss: 0.3497 - val_accuracy: 0.8717\n",
      "Epoch 19/100\n",
      "64/64 [==============================] - 1s 12ms/step - loss: 0.3444 - accuracy: 0.8801 - val_loss: 0.4133 - val_accuracy: 0.8767\n",
      "Epoch 20/100\n",
      "64/64 [==============================] - 1s 12ms/step - loss: 0.4543 - accuracy: 0.8474 - val_loss: 0.5146 - val_accuracy: 0.8164\n",
      "Epoch 21/100\n",
      "64/64 [==============================] - 1s 13ms/step - loss: 0.4736 - accuracy: 0.8260 - val_loss: 0.4175 - val_accuracy: 0.8415\n",
      "Epoch 22/100\n",
      "64/64 [==============================] - 1s 13ms/step - loss: 0.4002 - accuracy: 0.8512 - val_loss: 0.3997 - val_accuracy: 0.8428\n",
      "Epoch 23/100\n",
      "64/64 [==============================] - 1s 13ms/step - loss: 0.3724 - accuracy: 0.8625 - val_loss: 0.3901 - val_accuracy: 0.8541\n",
      "----------------------------------\n",
      "25/25 [==============================] - 0s 5ms/step - loss: 0.3497 - accuracy: 0.8717\n"
     ]
    },
    {
     "data": {
      "text/plain": [
       "[0.3497144281864166, 0.8716981410980225]"
      ]
     },
     "execution_count": 8,
     "metadata": {},
     "output_type": "execute_result"
    }
   ],
   "source": [
    "model.compile(optimizer='adam', \n",
    "              loss='binary_crossentropy', \n",
    "              metrics=['accuracy'])\n",
    "\n",
    "early_stopping_cb = keras.callbacks.EarlyStopping(patience = 5, restore_best_weights=True)\n",
    "\n",
    "history = model.fit(train_input, train_target, \n",
    "                    epochs=100, batch_size = 50,\n",
    "                    validation_data = (val_input, val_target),\n",
    "                    callbacks=[early_stopping_cb])\n",
    "\n",
    "print('----------------------------------')\n",
    "model.evaluate(val_input, val_target)"
   ]
  },
  {
   "cell_type": "code",
   "execution_count": 9,
   "metadata": {},
   "outputs": [
    {
     "name": "stdout",
     "output_type": "stream",
     "text": [
      "Epoch 1/100\n",
      "64/64 [==============================] - 4s 26ms/step - loss: 0.3274 - accuracy: 0.8817 - val_loss: 0.3491 - val_accuracy: 0.8717\n",
      "Epoch 2/100\n",
      "64/64 [==============================] - 1s 14ms/step - loss: 0.3263 - accuracy: 0.8820 - val_loss: 0.3486 - val_accuracy: 0.8704\n",
      "Epoch 3/100\n",
      "64/64 [==============================] - 1s 14ms/step - loss: 0.3308 - accuracy: 0.8789 - val_loss: 0.3483 - val_accuracy: 0.8692\n",
      "Epoch 4/100\n",
      "64/64 [==============================] - 1s 13ms/step - loss: 0.3260 - accuracy: 0.8836 - val_loss: 0.3480 - val_accuracy: 0.8692\n",
      "Epoch 5/100\n",
      "64/64 [==============================] - 1s 13ms/step - loss: 0.3282 - accuracy: 0.8814 - val_loss: 0.3478 - val_accuracy: 0.8692\n",
      "Epoch 6/100\n",
      "64/64 [==============================] - 1s 13ms/step - loss: 0.3255 - accuracy: 0.8789 - val_loss: 0.3477 - val_accuracy: 0.8692\n",
      "Epoch 7/100\n",
      "64/64 [==============================] - 1s 12ms/step - loss: 0.3243 - accuracy: 0.8823 - val_loss: 0.3476 - val_accuracy: 0.8692\n",
      "Epoch 8/100\n",
      "64/64 [==============================] - 1s 13ms/step - loss: 0.3271 - accuracy: 0.8833 - val_loss: 0.3475 - val_accuracy: 0.8679\n",
      "Epoch 9/100\n",
      "64/64 [==============================] - 1s 12ms/step - loss: 0.3344 - accuracy: 0.8823 - val_loss: 0.3473 - val_accuracy: 0.8679\n",
      "Epoch 10/100\n",
      "64/64 [==============================] - 1s 13ms/step - loss: 0.3266 - accuracy: 0.8826 - val_loss: 0.3473 - val_accuracy: 0.8679\n",
      "Epoch 11/100\n",
      "64/64 [==============================] - 1s 13ms/step - loss: 0.3237 - accuracy: 0.8826 - val_loss: 0.3472 - val_accuracy: 0.8679\n",
      "Epoch 12/100\n",
      "64/64 [==============================] - 1s 12ms/step - loss: 0.3355 - accuracy: 0.8817 - val_loss: 0.3472 - val_accuracy: 0.8679\n",
      "Epoch 13/100\n",
      "64/64 [==============================] - 1s 13ms/step - loss: 0.3247 - accuracy: 0.8817 - val_loss: 0.3473 - val_accuracy: 0.8679\n",
      "Epoch 14/100\n",
      "64/64 [==============================] - 1s 13ms/step - loss: 0.3307 - accuracy: 0.8842 - val_loss: 0.3472 - val_accuracy: 0.8679\n",
      "Epoch 15/100\n",
      "64/64 [==============================] - 1s 13ms/step - loss: 0.3370 - accuracy: 0.8817 - val_loss: 0.3472 - val_accuracy: 0.8679\n",
      "Epoch 16/100\n",
      "64/64 [==============================] - 1s 13ms/step - loss: 0.3269 - accuracy: 0.8804 - val_loss: 0.3472 - val_accuracy: 0.8679\n",
      "Epoch 17/100\n",
      "64/64 [==============================] - 1s 13ms/step - loss: 0.3264 - accuracy: 0.8807 - val_loss: 0.3471 - val_accuracy: 0.8679\n",
      "Epoch 18/100\n",
      "64/64 [==============================] - 1s 13ms/step - loss: 0.3297 - accuracy: 0.8836 - val_loss: 0.3470 - val_accuracy: 0.8679\n",
      "Epoch 19/100\n",
      "64/64 [==============================] - 1s 13ms/step - loss: 0.3259 - accuracy: 0.8851 - val_loss: 0.3471 - val_accuracy: 0.8679\n",
      "Epoch 20/100\n",
      "64/64 [==============================] - 1s 12ms/step - loss: 0.3260 - accuracy: 0.8820 - val_loss: 0.3471 - val_accuracy: 0.8679\n",
      "Epoch 21/100\n",
      "64/64 [==============================] - 1s 13ms/step - loss: 0.3260 - accuracy: 0.8826 - val_loss: 0.3471 - val_accuracy: 0.8679\n",
      "Epoch 22/100\n",
      "64/64 [==============================] - 1s 13ms/step - loss: 0.3232 - accuracy: 0.8851 - val_loss: 0.3471 - val_accuracy: 0.8679\n",
      "Epoch 23/100\n",
      "64/64 [==============================] - 1s 12ms/step - loss: 0.3310 - accuracy: 0.8798 - val_loss: 0.3471 - val_accuracy: 0.8679\n",
      "----------------------------------\n",
      "25/25 [==============================] - 0s 6ms/step - loss: 0.3470 - accuracy: 0.8679\n"
     ]
    },
    {
     "data": {
      "text/plain": [
       "[0.3470379114151001, 0.8679245114326477]"
      ]
     },
     "execution_count": 9,
     "metadata": {},
     "output_type": "execute_result"
    }
   ],
   "source": [
    "model.compile(optimizer='adadelta', \n",
    "              loss='binary_crossentropy', \n",
    "              metrics=['accuracy'])\n",
    "\n",
    "early_stopping_cb = keras.callbacks.EarlyStopping(patience = 5, restore_best_weights=True)\n",
    "\n",
    "history = model.fit(train_input, train_target, \n",
    "                    epochs=100, batch_size = 50,\n",
    "                    validation_data = (val_input, val_target),\n",
    "                    callbacks=[early_stopping_cb])\n",
    "\n",
    "print('----------------------------------')\n",
    "model.evaluate(val_input, val_target)"
   ]
  },
  {
   "cell_type": "code",
   "execution_count": 11,
   "metadata": {},
   "outputs": [
    {
     "name": "stdout",
     "output_type": "stream",
     "text": [
      "Epoch 1/100\n",
      "64/64 [==============================] - 4s 25ms/step - loss: 0.3609 - accuracy: 0.8811 - val_loss: 0.3513 - val_accuracy: 0.8755\n",
      "Epoch 2/100\n",
      "64/64 [==============================] - 1s 14ms/step - loss: 0.3442 - accuracy: 0.8820 - val_loss: 0.3545 - val_accuracy: 0.8679\n",
      "Epoch 3/100\n",
      "64/64 [==============================] - 1s 13ms/step - loss: 0.3306 - accuracy: 0.8814 - val_loss: 0.3495 - val_accuracy: 0.8755\n",
      "Epoch 4/100\n",
      "64/64 [==============================] - 1s 13ms/step - loss: 0.3297 - accuracy: 0.8826 - val_loss: 0.3403 - val_accuracy: 0.8767\n",
      "Epoch 5/100\n",
      "64/64 [==============================] - 1s 14ms/step - loss: 0.3306 - accuracy: 0.8814 - val_loss: 0.3468 - val_accuracy: 0.8717\n",
      "Epoch 6/100\n",
      "64/64 [==============================] - 1s 14ms/step - loss: 0.3279 - accuracy: 0.8842 - val_loss: 0.3579 - val_accuracy: 0.8717\n",
      "Epoch 7/100\n",
      "64/64 [==============================] - 1s 14ms/step - loss: 0.3334 - accuracy: 0.8829 - val_loss: 0.3463 - val_accuracy: 0.8742\n",
      "Epoch 8/100\n",
      "64/64 [==============================] - 1s 13ms/step - loss: 0.3318 - accuracy: 0.8817 - val_loss: 0.3550 - val_accuracy: 0.8704\n",
      "Epoch 9/100\n",
      "64/64 [==============================] - 1s 14ms/step - loss: 0.3223 - accuracy: 0.8814 - val_loss: 0.3460 - val_accuracy: 0.8717\n",
      "----------------------------------\n",
      "25/25 [==============================] - 0s 6ms/step - loss: 0.3403 - accuracy: 0.8767\n"
     ]
    },
    {
     "data": {
      "text/plain": [
       "[0.3403104245662689, 0.8767295479774475]"
      ]
     },
     "execution_count": 11,
     "metadata": {},
     "output_type": "execute_result"
    }
   ],
   "source": [
    "model.compile(optimizer='adamax', \n",
    "              loss='binary_crossentropy', \n",
    "              metrics=['accuracy'])\n",
    "\n",
    "early_stopping_cb = keras.callbacks.EarlyStopping(patience = 5, restore_best_weights=True)\n",
    "\n",
    "history = model.fit(train_input, train_target, \n",
    "                    epochs=100, batch_size = 50,\n",
    "                    validation_data = (val_input, val_target),\n",
    "                    callbacks=[early_stopping_cb])\n",
    "\n",
    "print('----------------------------------')\n",
    "model.evaluate(val_input, val_target)"
   ]
  },
  {
   "cell_type": "code",
   "execution_count": 12,
   "metadata": {},
   "outputs": [
    {
     "name": "stdout",
     "output_type": "stream",
     "text": [
      "Epoch 1/100\n",
      "64/64 [==============================] - 4s 26ms/step - loss: 0.3393 - accuracy: 0.8807 - val_loss: 0.3557 - val_accuracy: 0.8730\n",
      "Epoch 2/100\n",
      "64/64 [==============================] - 1s 13ms/step - loss: 0.3394 - accuracy: 0.8792 - val_loss: 0.3517 - val_accuracy: 0.8742\n",
      "Epoch 3/100\n",
      "64/64 [==============================] - 1s 13ms/step - loss: 0.3338 - accuracy: 0.8845 - val_loss: 0.3504 - val_accuracy: 0.8742\n",
      "Epoch 4/100\n",
      "64/64 [==============================] - 1s 13ms/step - loss: 0.3346 - accuracy: 0.8789 - val_loss: 0.3481 - val_accuracy: 0.8730\n",
      "Epoch 5/100\n",
      "64/64 [==============================] - 1s 13ms/step - loss: 0.3297 - accuracy: 0.8851 - val_loss: 0.3490 - val_accuracy: 0.8755\n",
      "Epoch 6/100\n",
      "64/64 [==============================] - 1s 13ms/step - loss: 0.3337 - accuracy: 0.8811 - val_loss: 0.3488 - val_accuracy: 0.8755\n",
      "Epoch 7/100\n",
      "64/64 [==============================] - 1s 14ms/step - loss: 0.3347 - accuracy: 0.8845 - val_loss: 0.3444 - val_accuracy: 0.8704\n",
      "Epoch 8/100\n",
      "64/64 [==============================] - 1s 13ms/step - loss: 0.3322 - accuracy: 0.8839 - val_loss: 0.3467 - val_accuracy: 0.8730\n",
      "Epoch 9/100\n",
      "64/64 [==============================] - 1s 13ms/step - loss: 0.3293 - accuracy: 0.8814 - val_loss: 0.3461 - val_accuracy: 0.8717\n",
      "Epoch 10/100\n",
      "64/64 [==============================] - 1s 13ms/step - loss: 0.3291 - accuracy: 0.8833 - val_loss: 0.3463 - val_accuracy: 0.8717\n",
      "Epoch 11/100\n",
      "64/64 [==============================] - 1s 14ms/step - loss: 0.3340 - accuracy: 0.8826 - val_loss: 0.3486 - val_accuracy: 0.8755\n",
      "Epoch 12/100\n",
      "64/64 [==============================] - 1s 13ms/step - loss: 0.3313 - accuracy: 0.8826 - val_loss: 0.3489 - val_accuracy: 0.8717\n",
      "----------------------------------\n",
      "25/25 [==============================] - 0s 6ms/step - loss: 0.3444 - accuracy: 0.8704\n"
     ]
    },
    {
     "data": {
      "text/plain": [
       "[0.3443983495235443, 0.8704402446746826]"
      ]
     },
     "execution_count": 12,
     "metadata": {},
     "output_type": "execute_result"
    }
   ],
   "source": [
    "model.compile(optimizer='adagrad', \n",
    "              loss='binary_crossentropy', \n",
    "              metrics=['accuracy'])\n",
    "\n",
    "early_stopping_cb = keras.callbacks.EarlyStopping(patience = 5, restore_best_weights=True)\n",
    "\n",
    "history = model.fit(train_input, train_target, \n",
    "                    epochs=100, batch_size = 50,\n",
    "                    validation_data = (val_input, val_target),\n",
    "                    callbacks=[early_stopping_cb])\n",
    "\n",
    "print('----------------------------------')\n",
    "model.evaluate(val_input, val_target)"
   ]
  },
  {
   "cell_type": "code",
   "execution_count": null,
   "metadata": {},
   "outputs": [],
   "source": []
  }
 ],
 "metadata": {
  "interpreter": {
   "hash": "0e56d166fbc896341d80a58b1f49edfebe20bc75f207edfdf6ccda3bd4653dde"
  },
  "kernelspec": {
   "display_name": "Python 3.8.10 64-bit ('Senior_Fall_venv': venv)",
   "language": "python",
   "name": "python3"
  },
  "language_info": {
   "codemirror_mode": {
    "name": "ipython",
    "version": 3
   },
   "file_extension": ".py",
   "mimetype": "text/x-python",
   "name": "python",
   "nbconvert_exporter": "python",
   "pygments_lexer": "ipython3",
   "version": "3.8.10"
  },
  "orig_nbformat": 4
 },
 "nbformat": 4,
 "nbformat_minor": 2
}
