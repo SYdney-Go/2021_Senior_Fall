{
 "cells": [
  {
   "cell_type": "code",
   "execution_count": 1,
   "metadata": {},
   "outputs": [],
   "source": [
    "import pandas as pd\n",
    "\n",
    "data = pd.read_csv('../preprocess/202111171547_all.csv')\n",
    "df = pd.DataFrame(data)\n",
    "data = df.iloc[:, :-1]\n",
    "target = df['target']"
   ]
  },
  {
   "cell_type": "code",
   "execution_count": 2,
   "metadata": {},
   "outputs": [],
   "source": [
    "from sklearn.model_selection import train_test_split\n",
    "\n",
    "train_input, test_input, train_target, test_target = train_test_split(data, target, test_size=0.2, stratify=target, random_state=0)\n",
    "train_input, val_input, train_target, val_target = train_test_split(train_input, train_target, test_size=0.2, stratify=train_target, random_state=0)"
   ]
  },
  {
   "cell_type": "code",
   "execution_count": 3,
   "metadata": {},
   "outputs": [
    {
     "data": {
      "text/plain": [
       "(3198, 160)"
      ]
     },
     "execution_count": 3,
     "metadata": {},
     "output_type": "execute_result"
    }
   ],
   "source": [
    "train_input.shape"
   ]
  },
  {
   "cell_type": "code",
   "execution_count": 4,
   "metadata": {},
   "outputs": [
    {
     "name": "stderr",
     "output_type": "stream",
     "text": [
      "2021-11-21 09:52:03.770748: E tensorflow/stream_executor/cuda/cuda_driver.cc:271] failed call to cuInit: CUDA_ERROR_UNKNOWN: unknown error\n",
      "2021-11-21 09:52:03.770777: I tensorflow/stream_executor/cuda/cuda_diagnostics.cc:169] retrieving CUDA diagnostic information for host: sydney-Prestige-14-A10SC\n",
      "2021-11-21 09:52:03.770783: I tensorflow/stream_executor/cuda/cuda_diagnostics.cc:176] hostname: sydney-Prestige-14-A10SC\n",
      "2021-11-21 09:52:03.770855: I tensorflow/stream_executor/cuda/cuda_diagnostics.cc:200] libcuda reported version is: 470.82.0\n",
      "2021-11-21 09:52:03.770874: I tensorflow/stream_executor/cuda/cuda_diagnostics.cc:204] kernel reported version is: 470.82.0\n",
      "2021-11-21 09:52:03.770879: I tensorflow/stream_executor/cuda/cuda_diagnostics.cc:310] kernel version seems to match DSO: 470.82.0\n",
      "2021-11-21 09:52:03.771120: I tensorflow/core/platform/cpu_feature_guard.cc:151] This TensorFlow binary is optimized with oneAPI Deep Neural Network Library (oneDNN) to use the following CPU instructions in performance-critical operations:  AVX2 FMA\n",
      "To enable them in other operations, rebuild TensorFlow with the appropriate compiler flags.\n"
     ]
    },
    {
     "name": "stdout",
     "output_type": "stream",
     "text": [
      "Model: \"sequential\"\n",
      "_________________________________________________________________\n",
      " Layer (type)                Output Shape              Param #   \n",
      "=================================================================\n",
      " lstm (LSTM)                 (None, 160, 8)            320       \n",
      "                                                                 \n",
      " lstm_1 (LSTM)               (None, 160, 4)            208       \n",
      "                                                                 \n",
      " lstm_2 (LSTM)               (None, 4)                 144       \n",
      "                                                                 \n",
      " dense (Dense)               (None, 1)                 5         \n",
      "                                                                 \n",
      "=================================================================\n",
      "Total params: 677\n",
      "Trainable params: 677\n",
      "Non-trainable params: 0\n",
      "_________________________________________________________________\n"
     ]
    }
   ],
   "source": [
    "from tensorflow import keras\n",
    "import tensorflow.keras.backend as K\n",
    "\n",
    "K.clear_session()\n",
    "model = keras.Sequential()\n",
    "model.add(keras.layers.LSTM(8, activation=\"tanh\", input_shape=(train_input.shape[1],1), return_sequences=True))\n",
    "model.add(keras.layers.LSTM(4, activation=\"tanh\", dropout=0.3, return_sequences=True))\n",
    "model.add(keras.layers.LSTM(4, activation=\"tanh\", dropout=0.3))\n",
    "model.add(keras.layers.Dense(1, activation='sigmoid'))\n",
    "\n",
    "model.summary()"
   ]
  },
  {
   "cell_type": "code",
   "execution_count": 6,
   "metadata": {},
   "outputs": [
    {
     "name": "stdout",
     "output_type": "stream",
     "text": [
      "Epoch 1/100\n",
      "64/64 [==============================] - 10s 94ms/step - loss: nan - accuracy: 0.6401 - val_loss: nan - val_accuracy: 0.6400\n",
      "Epoch 2/100\n",
      "64/64 [==============================] - 5s 84ms/step - loss: nan - accuracy: 0.6401 - val_loss: nan - val_accuracy: 0.6400\n",
      "Epoch 3/100\n",
      "64/64 [==============================] - 5s 86ms/step - loss: nan - accuracy: 0.6401 - val_loss: nan - val_accuracy: 0.6400\n",
      "Epoch 4/100\n",
      "64/64 [==============================] - 6s 87ms/step - loss: nan - accuracy: 0.6401 - val_loss: nan - val_accuracy: 0.6400\n",
      "Epoch 5/100\n",
      "64/64 [==============================] - 6s 87ms/step - loss: nan - accuracy: 0.6401 - val_loss: nan - val_accuracy: 0.6400\n"
     ]
    }
   ],
   "source": [
    "model.compile(optimizer='rmsprop', \n",
    "              loss='binary_crossentropy', \n",
    "              metrics=['accuracy'])\n",
    "\n",
    "early_stopping_cb = keras.callbacks.EarlyStopping(patience = 5, restore_best_weights=True)\n",
    "\n",
    "history = model.fit(train_input, train_target, \n",
    "                    epochs=100, batch_size = 50,\n",
    "                    validation_data = (val_input, val_target),\n",
    "                    callbacks=[early_stopping_cb])"
   ]
  },
  {
   "cell_type": "code",
   "execution_count": 15,
   "metadata": {},
   "outputs": [],
   "source": [
    "from tensorflow.keras.models import Sequential\n",
    "from tensorflow.keras.layers import Dense, Flatten, LSTM, Dropout, BatchNormalization\n",
    "from tensorflow.keras.optimizers import Adam\n",
    "\n",
    "BATCH_SIZE = 128\n",
    "model = Sequential()\n",
    "model.add(LSTM(32,\n",
    "               return_sequences=True, \n",
    "               input_shape=([train_input.shape[1], 1])))\n",
    "model.add(LSTM(18, activation='tanh'))\n",
    "model.add(Dense(9, activation='tanh'))\n",
    "model.add(Dense(1, activation='sigmoid'))"
   ]
  },
  {
   "cell_type": "code",
   "execution_count": 16,
   "metadata": {},
   "outputs": [
    {
     "name": "stdout",
     "output_type": "stream",
     "text": [
      "Epoch 1/150\n",
      "25/25 [==============================] - 5s 109ms/step - loss: nan - acc: 0.6401 - val_loss: nan - val_acc: 0.6400\n",
      "Epoch 2/150\n",
      "25/25 [==============================] - 2s 86ms/step - loss: nan - acc: 0.6401 - val_loss: nan - val_acc: 0.6400\n",
      "Epoch 3/150\n",
      "25/25 [==============================] - 2s 85ms/step - loss: nan - acc: 0.6401 - val_loss: nan - val_acc: 0.6400\n",
      "Epoch 4/150\n",
      "25/25 [==============================] - 2s 84ms/step - loss: nan - acc: 0.6401 - val_loss: nan - val_acc: 0.6400\n",
      "Epoch 5/150\n",
      "25/25 [==============================] - 2s 85ms/step - loss: nan - acc: 0.6401 - val_loss: nan - val_acc: 0.6400\n",
      "Epoch 6/150\n",
      "25/25 [==============================] - 2s 87ms/step - loss: nan - acc: 0.6401 - val_loss: nan - val_acc: 0.6400\n",
      "Epoch 7/150\n",
      "25/25 [==============================] - 2s 85ms/step - loss: nan - acc: 0.6401 - val_loss: nan - val_acc: 0.6400\n",
      "Epoch 8/150\n",
      "25/25 [==============================] - 2s 87ms/step - loss: nan - acc: 0.6401 - val_loss: nan - val_acc: 0.6400\n",
      "Epoch 9/150\n",
      "25/25 [==============================] - 2s 89ms/step - loss: nan - acc: 0.6401 - val_loss: nan - val_acc: 0.6400\n",
      "Epoch 10/150\n",
      "25/25 [==============================] - 2s 88ms/step - loss: nan - acc: 0.6401 - val_loss: nan - val_acc: 0.6400\n",
      "Epoch 11/150\n",
      "25/25 [==============================] - 2s 85ms/step - loss: nan - acc: 0.6401 - val_loss: nan - val_acc: 0.6400\n",
      "Epoch 12/150\n",
      " 7/25 [=======>......................] - ETA: 1s - loss: nan - acc: 0.6373"
     ]
    }
   ],
   "source": [
    "model.compile(loss='binary_crossentropy', optimizer='adam', metrics=['acc'])\n",
    "history = model.fit(train_input, train_target, \n",
    "                    epochs=150, \n",
    "                    batch_size=BATCH_SIZE, \n",
    "                    validation_data=(val_input, val_target),\n",
    "                    verbose=1, \n",
    "                    shuffle=True)"
   ]
  },
  {
   "cell_type": "code",
   "execution_count": null,
   "metadata": {},
   "outputs": [],
   "source": []
  }
 ],
 "metadata": {
  "interpreter": {
   "hash": "0e56d166fbc896341d80a58b1f49edfebe20bc75f207edfdf6ccda3bd4653dde"
  },
  "kernelspec": {
   "display_name": "Python 3.8.10 64-bit ('Senior_Fall_venv': venv)",
   "language": "python",
   "name": "python3"
  },
  "language_info": {
   "codemirror_mode": {
    "name": "ipython",
    "version": 3
   },
   "file_extension": ".py",
   "mimetype": "text/x-python",
   "name": "python",
   "nbconvert_exporter": "python",
   "pygments_lexer": "ipython3",
   "version": "3.8.10"
  },
  "orig_nbformat": 4
 },
 "nbformat": 4,
 "nbformat_minor": 2
}
