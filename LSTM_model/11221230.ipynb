{
 "cells": [
  {
   "cell_type": "code",
   "execution_count": 34,
   "metadata": {},
   "outputs": [],
   "source": [
    "from playsound import playsound"
   ]
  },
  {
   "cell_type": "markdown",
   "metadata": {},
   "source": [
    "# TimeDistributed 사용"
   ]
  },
  {
   "cell_type": "code",
   "execution_count": 1,
   "metadata": {},
   "outputs": [],
   "source": [
    "import pandas as pd\n",
    "\n",
    "data = pd.read_csv('../preprocess/202111171547_all.csv')\n",
    "df = pd.DataFrame(data)\n",
    "df = df.dropna()\n",
    "data = df.iloc[:, :-1]\n",
    "target = df['target']"
   ]
  },
  {
   "cell_type": "code",
   "execution_count": 2,
   "metadata": {},
   "outputs": [],
   "source": [
    "from sklearn.model_selection import train_test_split\n",
    "\n",
    "train_input, test_input, train_target, test_target = train_test_split(data, target, test_size=0.2, stratify=target, random_state=0)\n",
    "train_input, val_input, train_target, val_target = train_test_split(train_input, train_target, test_size=0.2, stratify=train_target, random_state=0)"
   ]
  },
  {
   "cell_type": "code",
   "execution_count": 4,
   "metadata": {},
   "outputs": [
    {
     "name": "stdout",
     "output_type": "stream",
     "text": [
      "Model: \"sequential\"\n",
      "_________________________________________________________________\n",
      " Layer (type)                Output Shape              Param #   \n",
      "=================================================================\n",
      " lstm (LSTM)                 (None, 160, 32)           4352      \n",
      "                                                                 \n",
      " lstm_1 (LSTM)               (None, 160, 16)           3136      \n",
      "                                                                 \n",
      " lstm_2 (LSTM)               (None, 160, 8)            800       \n",
      "                                                                 \n",
      " time_distributed (TimeDistr  (None, 160, 1)           9         \n",
      " ibuted)                                                         \n",
      "                                                                 \n",
      "=================================================================\n",
      "Total params: 8,297\n",
      "Trainable params: 8,297\n",
      "Non-trainable params: 0\n",
      "_________________________________________________________________\n"
     ]
    }
   ],
   "source": [
    "from tensorflow import keras\n",
    "import tensorflow.keras.backend as K\n",
    "\n",
    "K.clear_session()\n",
    "model = keras.Sequential()\n",
    "model.add(keras.layers.LSTM(32, activation=\"tanh\", input_shape=(train_input.shape[1],1), return_sequences=True))\n",
    "model.add(keras.layers.LSTM(16, activation=\"tanh\", dropout=0.3, return_sequences=True))\n",
    "model.add(keras.layers.LSTM(8, activation=\"tanh\", dropout=0.3, return_sequences=True))\n",
    "model.add(keras.layers.TimeDistributed(keras.layers.Dense(1, activation='sigmoid')))\n",
    "\n",
    "model.summary()"
   ]
  },
  {
   "cell_type": "code",
   "execution_count": 35,
   "metadata": {},
   "outputs": [
    {
     "name": "stdout",
     "output_type": "stream",
     "text": [
      "Epoch 1/100\n",
      "64/64 [==============================] - 11s 107ms/step - loss: 0.4259 - accuracy: 0.8026 - val_loss: 0.4212 - val_accuracy: 0.8117\n",
      "Epoch 2/100\n",
      "64/64 [==============================] - 6s 95ms/step - loss: 0.4209 - accuracy: 0.8058 - val_loss: 0.4183 - val_accuracy: 0.8160\n",
      "Epoch 3/100\n",
      "64/64 [==============================] - 6s 94ms/step - loss: 0.4210 - accuracy: 0.8052 - val_loss: 0.4196 - val_accuracy: 0.8129\n",
      "Epoch 4/100\n",
      "64/64 [==============================] - 6s 96ms/step - loss: 0.4192 - accuracy: 0.8060 - val_loss: 0.4262 - val_accuracy: 0.8097\n",
      "Epoch 5/100\n",
      "64/64 [==============================] - 6s 95ms/step - loss: 0.4162 - accuracy: 0.8071 - val_loss: 0.4187 - val_accuracy: 0.8177\n",
      "Epoch 6/100\n",
      "64/64 [==============================] - 6s 94ms/step - loss: 0.4203 - accuracy: 0.8042 - val_loss: 0.4543 - val_accuracy: 0.8021\n",
      "Epoch 7/100\n",
      "64/64 [==============================] - 6s 93ms/step - loss: 0.4261 - accuracy: 0.8031 - val_loss: 0.4191 - val_accuracy: 0.8134\n"
     ]
    }
   ],
   "source": [
    "model.compile(optimizer='adam', \n",
    "              loss='binary_crossentropy', \n",
    "              metrics=['accuracy'])\n",
    "\n",
    "early_stopping_cb = keras.callbacks.EarlyStopping(patience = 5, restore_best_weights=True)\n",
    "\n",
    "history = model.fit(train_input, train_target, \n",
    "                    epochs=100, batch_size = 50,\n",
    "                    validation_data = (val_input, val_target),\n",
    "                    callbacks=[early_stopping_cb])\n",
    "\n",
    "playsound('audio.mp3')"
   ]
  },
  {
   "cell_type": "code",
   "execution_count": 16,
   "metadata": {},
   "outputs": [
    {
     "name": "stdout",
     "output_type": "stream",
     "text": [
      "25/25 [==============================] - 1s 20ms/step - loss: 0.4276 - accuracy: 0.8073\n"
     ]
    },
    {
     "data": {
      "text/plain": [
       "[0.4275921881198883, 0.8073349595069885]"
      ]
     },
     "execution_count": 16,
     "metadata": {},
     "output_type": "execute_result"
    }
   ],
   "source": [
    "model.evaluate(val_input, val_target)"
   ]
  },
  {
   "cell_type": "code",
   "execution_count": 17,
   "metadata": {},
   "outputs": [
    {
     "name": "stdout",
     "output_type": "stream",
     "text": [
      "Epoch 1/100\n",
      "159/159 [==============================] - 18s 92ms/step - loss: 0.5497 - accuracy: 0.6827 - val_loss: 0.4469 - val_accuracy: 0.8050\n",
      "Epoch 2/100\n",
      "159/159 [==============================] - 14s 86ms/step - loss: 0.4524 - accuracy: 0.7907 - val_loss: 0.4548 - val_accuracy: 0.7898\n",
      "Epoch 3/100\n",
      "159/159 [==============================] - 14s 86ms/step - loss: 0.4476 - accuracy: 0.7921 - val_loss: 0.4585 - val_accuracy: 0.7994\n",
      "Epoch 4/100\n",
      "159/159 [==============================] - 14s 86ms/step - loss: 0.4467 - accuracy: 0.7929 - val_loss: 0.4400 - val_accuracy: 0.8052\n",
      "Epoch 5/100\n",
      "159/159 [==============================] - 14s 86ms/step - loss: 0.4493 - accuracy: 0.7895 - val_loss: 0.4567 - val_accuracy: 0.7963\n",
      "Epoch 6/100\n",
      "159/159 [==============================] - 14s 86ms/step - loss: 0.4480 - accuracy: 0.7905 - val_loss: 0.4284 - val_accuracy: 0.8066\n",
      "Epoch 7/100\n",
      "159/159 [==============================] - 14s 86ms/step - loss: 0.4468 - accuracy: 0.7933 - val_loss: 0.4416 - val_accuracy: 0.8052\n",
      "Epoch 8/100\n",
      "159/159 [==============================] - 14s 86ms/step - loss: 0.4463 - accuracy: 0.7929 - val_loss: 0.4457 - val_accuracy: 0.8030\n",
      "Epoch 9/100\n",
      "159/159 [==============================] - 14s 86ms/step - loss: 0.4428 - accuracy: 0.7938 - val_loss: 0.4393 - val_accuracy: 0.8022\n",
      "Epoch 10/100\n",
      "159/159 [==============================] - 14s 86ms/step - loss: 0.4444 - accuracy: 0.7910 - val_loss: 0.4504 - val_accuracy: 0.8019\n",
      "Epoch 11/100\n",
      "159/159 [==============================] - 14s 86ms/step - loss: 0.4449 - accuracy: 0.7936 - val_loss: 0.4245 - val_accuracy: 0.8076\n",
      "Epoch 12/100\n",
      "159/159 [==============================] - 14s 86ms/step - loss: 0.4473 - accuracy: 0.7901 - val_loss: 0.4495 - val_accuracy: 0.7979\n",
      "Epoch 13/100\n",
      "159/159 [==============================] - 14s 86ms/step - loss: 0.4400 - accuracy: 0.7955 - val_loss: 0.4388 - val_accuracy: 0.8032\n",
      "Epoch 14/100\n",
      "159/159 [==============================] - 14s 87ms/step - loss: 0.4397 - accuracy: 0.7945 - val_loss: 0.4371 - val_accuracy: 0.8027\n",
      "Epoch 15/100\n",
      "159/159 [==============================] - 14s 88ms/step - loss: 0.4515 - accuracy: 0.7846 - val_loss: 0.7328 - val_accuracy: 0.4184\n",
      "Epoch 16/100\n",
      "159/159 [==============================] - 14s 89ms/step - loss: 0.4430 - accuracy: 0.7902 - val_loss: 0.4414 - val_accuracy: 0.8053\n"
     ]
    }
   ],
   "source": [
    "model.compile(optimizer='rmsprop', \n",
    "              loss='binary_crossentropy', \n",
    "              metrics=['accuracy'])\n",
    "\n",
    "early_stopping_cb = keras.callbacks.EarlyStopping(patience = 5, restore_best_weights=True)\n",
    "\n",
    "history = model.fit(train_input, train_target, \n",
    "                    epochs=100, batch_size = 20,\n",
    "                    validation_data = (val_input, val_target),\n",
    "                    callbacks=[early_stopping_cb])"
   ]
  },
  {
   "cell_type": "code",
   "execution_count": 18,
   "metadata": {},
   "outputs": [
    {
     "name": "stdout",
     "output_type": "stream",
     "text": [
      "25/25 [==============================] - 1s 20ms/step - loss: 0.4245 - accuracy: 0.8076\n"
     ]
    },
    {
     "data": {
      "text/plain": [
       "[0.4244670271873474, 0.8075708150863647]"
      ]
     },
     "execution_count": 18,
     "metadata": {},
     "output_type": "execute_result"
    }
   ],
   "source": [
    "model.evaluate(val_input, val_target)"
   ]
  },
  {
   "cell_type": "code",
   "execution_count": 19,
   "metadata": {},
   "outputs": [
    {
     "name": "stdout",
     "output_type": "stream",
     "text": [
      "Epoch 1/100\n",
      "318/318 [==============================] - 31s 87ms/step - loss: 0.5158 - accuracy: 0.7207 - val_loss: 0.5789 - val_accuracy: 0.7178\n",
      "Epoch 2/100\n",
      "318/318 [==============================] - 27s 84ms/step - loss: 0.5711 - accuracy: 0.7315 - val_loss: 0.5355 - val_accuracy: 0.7512\n",
      "Epoch 3/100\n",
      "318/318 [==============================] - 27s 83ms/step - loss: 0.5497 - accuracy: 0.7426 - val_loss: 0.5312 - val_accuracy: 0.7477\n",
      "Epoch 4/100\n",
      "318/318 [==============================] - 27s 83ms/step - loss: 0.5410 - accuracy: 0.7494 - val_loss: 0.5085 - val_accuracy: 0.7631\n",
      "Epoch 5/100\n",
      "318/318 [==============================] - 27s 84ms/step - loss: 0.5328 - accuracy: 0.7469 - val_loss: 0.4878 - val_accuracy: 0.7748\n",
      "Epoch 6/100\n",
      "318/318 [==============================] - 27s 85ms/step - loss: 0.5152 - accuracy: 0.7561 - val_loss: 0.5089 - val_accuracy: 0.7670\n",
      "Epoch 7/100\n",
      "318/318 [==============================] - 27s 85ms/step - loss: 0.4713 - accuracy: 0.7793 - val_loss: 0.4551 - val_accuracy: 0.8026\n",
      "Epoch 8/100\n",
      "318/318 [==============================] - 26s 83ms/step - loss: 0.4609 - accuracy: 0.7842 - val_loss: 0.4493 - val_accuracy: 0.7971\n",
      "Epoch 9/100\n",
      "318/318 [==============================] - 25s 79ms/step - loss: 0.4550 - accuracy: 0.7862 - val_loss: 0.4391 - val_accuracy: 0.7991\n",
      "Epoch 10/100\n",
      "318/318 [==============================] - 25s 79ms/step - loss: 0.4583 - accuracy: 0.7829 - val_loss: 0.4376 - val_accuracy: 0.8040\n",
      "Epoch 11/100\n",
      "318/318 [==============================] - 27s 85ms/step - loss: 0.4488 - accuracy: 0.7893 - val_loss: 0.4360 - val_accuracy: 0.8045\n",
      "Epoch 12/100\n",
      "318/318 [==============================] - 27s 85ms/step - loss: 0.4509 - accuracy: 0.7869 - val_loss: 0.4384 - val_accuracy: 0.8022\n",
      "Epoch 13/100\n",
      "318/318 [==============================] - 27s 84ms/step - loss: 0.4448 - accuracy: 0.7886 - val_loss: 0.4432 - val_accuracy: 0.8051\n",
      "Epoch 14/100\n",
      "318/318 [==============================] - 26s 83ms/step - loss: 0.4414 - accuracy: 0.7942 - val_loss: 0.4338 - val_accuracy: 0.8057\n",
      "Epoch 15/100\n",
      "318/318 [==============================] - 26s 83ms/step - loss: 0.4365 - accuracy: 0.7952 - val_loss: 0.4282 - val_accuracy: 0.8077\n",
      "Epoch 16/100\n",
      "318/318 [==============================] - 27s 84ms/step - loss: 0.4399 - accuracy: 0.7944 - val_loss: 0.4607 - val_accuracy: 0.7851\n",
      "Epoch 17/100\n",
      "318/318 [==============================] - 26s 83ms/step - loss: 0.4366 - accuracy: 0.7971 - val_loss: 0.4327 - val_accuracy: 0.8104\n",
      "Epoch 18/100\n",
      "318/318 [==============================] - 27s 84ms/step - loss: 0.4349 - accuracy: 0.7993 - val_loss: 0.4421 - val_accuracy: 0.8064\n",
      "Epoch 19/100\n",
      "318/318 [==============================] - 27s 86ms/step - loss: 0.4482 - accuracy: 0.7859 - val_loss: 0.4240 - val_accuracy: 0.8074\n",
      "Epoch 20/100\n",
      "318/318 [==============================] - 27s 84ms/step - loss: 0.4405 - accuracy: 0.7959 - val_loss: 0.4197 - val_accuracy: 0.8119\n",
      "Epoch 21/100\n",
      "318/318 [==============================] - 27s 85ms/step - loss: 0.4377 - accuracy: 0.7985 - val_loss: 0.4410 - val_accuracy: 0.8053\n",
      "Epoch 22/100\n",
      "318/318 [==============================] - 27s 84ms/step - loss: 0.4584 - accuracy: 0.7816 - val_loss: 0.4389 - val_accuracy: 0.8091\n",
      "Epoch 23/100\n",
      "318/318 [==============================] - 27s 85ms/step - loss: 0.4333 - accuracy: 0.7977 - val_loss: 0.4416 - val_accuracy: 0.8055\n",
      "Epoch 24/100\n",
      "318/318 [==============================] - 27s 85ms/step - loss: 0.4293 - accuracy: 0.7992 - val_loss: 0.4223 - val_accuracy: 0.8117\n",
      "Epoch 25/100\n",
      "318/318 [==============================] - 27s 84ms/step - loss: 0.4312 - accuracy: 0.7999 - val_loss: 0.4700 - val_accuracy: 0.7617\n",
      "Epoch 26/100\n",
      "318/318 [==============================] - 27s 85ms/step - loss: 0.4326 - accuracy: 0.7977 - val_loss: 0.4400 - val_accuracy: 0.7941\n",
      "Epoch 27/100\n",
      "318/318 [==============================] - 27s 86ms/step - loss: 0.4294 - accuracy: 0.8027 - val_loss: 0.4220 - val_accuracy: 0.8113\n",
      "Epoch 28/100\n",
      "318/318 [==============================] - 28s 89ms/step - loss: 0.4353 - accuracy: 0.7963 - val_loss: 0.4277 - val_accuracy: 0.8099\n",
      "Epoch 29/100\n",
      "318/318 [==============================] - 29s 90ms/step - loss: 0.4330 - accuracy: 0.7980 - val_loss: 0.4352 - val_accuracy: 0.8020\n",
      "Epoch 30/100\n",
      "318/318 [==============================] - 29s 90ms/step - loss: 0.4250 - accuracy: 0.8030 - val_loss: 0.4290 - val_accuracy: 0.8085\n"
     ]
    }
   ],
   "source": [
    "model.compile(optimizer='rmsprop', \n",
    "              loss='binary_crossentropy', \n",
    "              metrics=['accuracy'])\n",
    "\n",
    "early_stopping_cb = keras.callbacks.EarlyStopping(patience = 10, restore_best_weights=True)\n",
    "\n",
    "history = model.fit(train_input, train_target, \n",
    "                    epochs=100, batch_size = 10,\n",
    "                    validation_data = (val_input, val_target),\n",
    "                    callbacks=[early_stopping_cb])"
   ]
  },
  {
   "cell_type": "code",
   "execution_count": 20,
   "metadata": {},
   "outputs": [
    {
     "name": "stdout",
     "output_type": "stream",
     "text": [
      "25/25 [==============================] - 1s 21ms/step - loss: 0.4197 - accuracy: 0.8119\n"
     ]
    },
    {
     "data": {
      "text/plain": [
       "[0.41965001821517944, 0.8118554353713989]"
      ]
     },
     "execution_count": 20,
     "metadata": {},
     "output_type": "execute_result"
    }
   ],
   "source": [
    "model.evaluate(val_input, val_target)"
   ]
  },
  {
   "cell_type": "code",
   "execution_count": 13,
   "metadata": {},
   "outputs": [
    {
     "name": "stdout",
     "output_type": "stream",
     "text": [
      "Epoch 1/100\n",
      "64/64 [==============================] - 11s 108ms/step - loss: 0.4579 - accuracy: 0.7877 - val_loss: 0.4842 - val_accuracy: 0.7948\n",
      "Epoch 2/100\n",
      "64/64 [==============================] - 6s 98ms/step - loss: 0.4545 - accuracy: 0.7881 - val_loss: 0.4570 - val_accuracy: 0.7983\n",
      "Epoch 3/100\n",
      "64/64 [==============================] - 6s 96ms/step - loss: 0.4529 - accuracy: 0.7873 - val_loss: 0.4616 - val_accuracy: 0.8022\n",
      "Epoch 4/100\n",
      "64/64 [==============================] - 6s 96ms/step - loss: 0.4555 - accuracy: 0.7894 - val_loss: 0.4656 - val_accuracy: 0.8013\n",
      "Epoch 5/100\n",
      "64/64 [==============================] - 6s 92ms/step - loss: 0.4525 - accuracy: 0.7897 - val_loss: 0.4672 - val_accuracy: 0.8006\n",
      "Epoch 6/100\n",
      "64/64 [==============================] - 6s 94ms/step - loss: 0.4527 - accuracy: 0.7904 - val_loss: 0.4445 - val_accuracy: 0.8040\n",
      "Epoch 7/100\n",
      "64/64 [==============================] - 6s 92ms/step - loss: 0.4534 - accuracy: 0.7897 - val_loss: 0.4619 - val_accuracy: 0.7995\n",
      "Epoch 8/100\n",
      "64/64 [==============================] - 6s 92ms/step - loss: 0.4504 - accuracy: 0.7913 - val_loss: 0.4558 - val_accuracy: 0.8023\n",
      "Epoch 9/100\n",
      "64/64 [==============================] - 6s 89ms/step - loss: 0.4520 - accuracy: 0.7898 - val_loss: 0.4525 - val_accuracy: 0.8015\n",
      "Epoch 10/100\n",
      "64/64 [==============================] - 6s 90ms/step - loss: 0.4461 - accuracy: 0.7936 - val_loss: 0.4492 - val_accuracy: 0.8039\n",
      "Epoch 11/100\n",
      "64/64 [==============================] - 6s 90ms/step - loss: 0.4502 - accuracy: 0.7900 - val_loss: 0.4421 - val_accuracy: 0.8041\n",
      "Epoch 12/100\n",
      "64/64 [==============================] - 6s 89ms/step - loss: 0.4479 - accuracy: 0.7919 - val_loss: 0.4551 - val_accuracy: 0.8043\n",
      "Epoch 13/100\n",
      "64/64 [==============================] - 6s 90ms/step - loss: 0.4477 - accuracy: 0.7944 - val_loss: 0.4435 - val_accuracy: 0.8035\n",
      "Epoch 14/100\n",
      "64/64 [==============================] - 6s 91ms/step - loss: 0.4494 - accuracy: 0.7930 - val_loss: 0.4552 - val_accuracy: 0.8014\n",
      "Epoch 15/100\n",
      "64/64 [==============================] - 6s 90ms/step - loss: 0.4443 - accuracy: 0.7934 - val_loss: 0.4544 - val_accuracy: 0.8034\n",
      "Epoch 16/100\n",
      "64/64 [==============================] - 6s 89ms/step - loss: 0.4443 - accuracy: 0.7935 - val_loss: 0.4316 - val_accuracy: 0.8089\n",
      "Epoch 17/100\n",
      "64/64 [==============================] - 6s 89ms/step - loss: 0.4505 - accuracy: 0.7909 - val_loss: 0.4374 - val_accuracy: 0.8036\n",
      "Epoch 18/100\n",
      "64/64 [==============================] - 6s 91ms/step - loss: 0.4453 - accuracy: 0.7929 - val_loss: 0.4463 - val_accuracy: 0.8027\n",
      "Epoch 19/100\n",
      "64/64 [==============================] - 6s 90ms/step - loss: 0.4412 - accuracy: 0.7960 - val_loss: 0.4370 - val_accuracy: 0.8053\n",
      "Epoch 20/100\n",
      "64/64 [==============================] - 6s 91ms/step - loss: 0.4395 - accuracy: 0.7973 - val_loss: 0.4561 - val_accuracy: 0.8040\n",
      "Epoch 21/100\n",
      "64/64 [==============================] - 6s 91ms/step - loss: 0.4443 - accuracy: 0.7951 - val_loss: 0.4463 - val_accuracy: 0.8061\n"
     ]
    }
   ],
   "source": [
    "model.compile(optimizer='rmsprop', \n",
    "              loss='binary_crossentropy', \n",
    "              metrics=['accuracy'])\n",
    "\n",
    "early_stopping_cb = keras.callbacks.EarlyStopping(patience = 5, restore_best_weights=True)\n",
    "\n",
    "history = model.fit(train_input, train_target, \n",
    "                    epochs=100, batch_size = 50,\n",
    "                    validation_data = (val_input, val_target),\n",
    "                    callbacks=[early_stopping_cb])"
   ]
  },
  {
   "cell_type": "code",
   "execution_count": 14,
   "metadata": {},
   "outputs": [
    {
     "name": "stdout",
     "output_type": "stream",
     "text": [
      "25/25 [==============================] - 0s 19ms/step - loss: 0.4316 - accuracy: 0.8089\n"
     ]
    },
    {
     "data": {
      "text/plain": [
       "[0.431601345539093, 0.8089309334754944]"
      ]
     },
     "execution_count": 14,
     "metadata": {},
     "output_type": "execute_result"
    }
   ],
   "source": [
    "model.evaluate(val_input, val_target)"
   ]
  },
  {
   "cell_type": "code",
   "execution_count": 5,
   "metadata": {},
   "outputs": [
    {
     "name": "stdout",
     "output_type": "stream",
     "text": [
      "Model: \"sequential\"\n",
      "_________________________________________________________________\n",
      " Layer (type)                Output Shape              Param #   \n",
      "=================================================================\n",
      " lstm (LSTM)                 (None, 160, 32)           4352      \n",
      "                                                                 \n",
      " lstm_1 (LSTM)               (None, 160, 16)           3136      \n",
      "                                                                 \n",
      " lstm_2 (LSTM)               (None, 160, 8)            800       \n",
      "                                                                 \n",
      " time_distributed (TimeDistr  (None, 160, 1)           9         \n",
      " ibuted)                                                         \n",
      "                                                                 \n",
      "=================================================================\n",
      "Total params: 8,297\n",
      "Trainable params: 8,297\n",
      "Non-trainable params: 0\n",
      "_________________________________________________________________\n",
      "Epoch 1/100\n",
      "64/64 [==============================] - 6s 43ms/step - loss: 0.6285 - accuracy: 0.6718 - val_loss: 0.6226 - val_accuracy: 0.6795\n",
      "Epoch 2/100\n",
      "64/64 [==============================] - 2s 28ms/step - loss: 0.6016 - accuracy: 0.7007 - val_loss: 0.5922 - val_accuracy: 0.7077\n",
      "Epoch 3/100\n",
      "64/64 [==============================] - 2s 27ms/step - loss: 0.5885 - accuracy: 0.7142 - val_loss: 0.5857 - val_accuracy: 0.7132\n",
      "Epoch 4/100\n",
      "64/64 [==============================] - 2s 28ms/step - loss: 0.5843 - accuracy: 0.7198 - val_loss: 0.5610 - val_accuracy: 0.7397\n",
      "Epoch 5/100\n",
      "64/64 [==============================] - 2s 28ms/step - loss: 0.5854 - accuracy: 0.7169 - val_loss: 0.6061 - val_accuracy: 0.7023\n",
      "Epoch 6/100\n",
      "64/64 [==============================] - 2s 27ms/step - loss: 0.5762 - accuracy: 0.7257 - val_loss: 0.5541 - val_accuracy: 0.7426\n",
      "Epoch 7/100\n",
      "64/64 [==============================] - 2s 26ms/step - loss: 0.5738 - accuracy: 0.7267 - val_loss: 1.0296 - val_accuracy: 0.3677\n",
      "Epoch 8/100\n",
      "64/64 [==============================] - 2s 29ms/step - loss: 0.5697 - accuracy: 0.7285 - val_loss: 0.5993 - val_accuracy: 0.7097\n",
      "Epoch 9/100\n",
      "64/64 [==============================] - 2s 25ms/step - loss: 0.5634 - accuracy: 0.7335 - val_loss: 0.5891 - val_accuracy: 0.7217\n",
      "Epoch 10/100\n",
      "64/64 [==============================] - 2s 26ms/step - loss: 0.5618 - accuracy: 0.7308 - val_loss: 0.5512 - val_accuracy: 0.7384\n",
      "Epoch 11/100\n",
      "64/64 [==============================] - 2s 26ms/step - loss: 0.5553 - accuracy: 0.7360 - val_loss: 0.6519 - val_accuracy: 0.6442\n",
      "Epoch 12/100\n",
      "64/64 [==============================] - 2s 27ms/step - loss: 0.5564 - accuracy: 0.7328 - val_loss: 0.5439 - val_accuracy: 0.7383\n",
      "Epoch 13/100\n",
      "64/64 [==============================] - 2s 28ms/step - loss: 0.5408 - accuracy: 0.7442 - val_loss: 0.5399 - val_accuracy: 0.7590\n",
      "Epoch 14/100\n",
      "64/64 [==============================] - 2s 28ms/step - loss: 0.5398 - accuracy: 0.7445 - val_loss: 0.5346 - val_accuracy: 0.7597\n",
      "Epoch 15/100\n",
      "64/64 [==============================] - 2s 27ms/step - loss: 0.5446 - accuracy: 0.7390 - val_loss: 0.5230 - val_accuracy: 0.7496\n",
      "Epoch 16/100\n",
      "64/64 [==============================] - 2s 28ms/step - loss: 0.5298 - accuracy: 0.7481 - val_loss: 0.5312 - val_accuracy: 0.7573\n",
      "Epoch 17/100\n",
      "64/64 [==============================] - 2s 27ms/step - loss: 0.5274 - accuracy: 0.7479 - val_loss: 0.5104 - val_accuracy: 0.7663\n",
      "Epoch 18/100\n",
      "64/64 [==============================] - 2s 28ms/step - loss: 0.5233 - accuracy: 0.7518 - val_loss: 0.5817 - val_accuracy: 0.7332\n",
      "Epoch 19/100\n",
      "64/64 [==============================] - 2s 27ms/step - loss: 0.5199 - accuracy: 0.7505 - val_loss: 0.5025 - val_accuracy: 0.7610\n",
      "Epoch 20/100\n",
      "64/64 [==============================] - 2s 28ms/step - loss: 0.5125 - accuracy: 0.7546 - val_loss: 0.4982 - val_accuracy: 0.7694\n",
      "Epoch 21/100\n",
      "64/64 [==============================] - 2s 27ms/step - loss: 0.5122 - accuracy: 0.7532 - val_loss: 0.5017 - val_accuracy: 0.7622\n",
      "Epoch 22/100\n",
      "64/64 [==============================] - 2s 27ms/step - loss: 0.5074 - accuracy: 0.7559 - val_loss: 0.5472 - val_accuracy: 0.7573\n",
      "Epoch 23/100\n",
      "64/64 [==============================] - 2s 28ms/step - loss: 0.5021 - accuracy: 0.7580 - val_loss: 0.4849 - val_accuracy: 0.7763\n",
      "Epoch 24/100\n",
      "64/64 [==============================] - 2s 28ms/step - loss: 0.5036 - accuracy: 0.7599 - val_loss: 0.4838 - val_accuracy: 0.7780\n",
      "Epoch 25/100\n",
      "64/64 [==============================] - 2s 28ms/step - loss: 0.4970 - accuracy: 0.7600 - val_loss: 0.8381 - val_accuracy: 0.4454\n",
      "Epoch 26/100\n",
      "64/64 [==============================] - 2s 28ms/step - loss: 0.4976 - accuracy: 0.7601 - val_loss: 0.4748 - val_accuracy: 0.7801\n",
      "Epoch 27/100\n",
      "64/64 [==============================] - 2s 28ms/step - loss: 0.4940 - accuracy: 0.7643 - val_loss: 0.5913 - val_accuracy: 0.7194\n",
      "Epoch 28/100\n",
      "64/64 [==============================] - 2s 28ms/step - loss: 0.4913 - accuracy: 0.7641 - val_loss: 0.4934 - val_accuracy: 0.7789\n",
      "Epoch 29/100\n",
      "64/64 [==============================] - 2s 28ms/step - loss: 0.4911 - accuracy: 0.7647 - val_loss: 0.5038 - val_accuracy: 0.7717\n",
      "Epoch 30/100\n",
      "64/64 [==============================] - 2s 27ms/step - loss: 0.4861 - accuracy: 0.7669 - val_loss: 0.4882 - val_accuracy: 0.7600\n",
      "Epoch 31/100\n",
      "64/64 [==============================] - 2s 24ms/step - loss: 0.4883 - accuracy: 0.7669 - val_loss: 0.4595 - val_accuracy: 0.7928\n",
      "Epoch 32/100\n",
      "64/64 [==============================] - 2s 24ms/step - loss: 0.4861 - accuracy: 0.7679 - val_loss: 0.4729 - val_accuracy: 0.7898\n",
      "Epoch 33/100\n",
      "64/64 [==============================] - 2s 24ms/step - loss: 0.4791 - accuracy: 0.7735 - val_loss: 0.4873 - val_accuracy: 0.7858\n",
      "Epoch 34/100\n",
      "64/64 [==============================] - 2s 25ms/step - loss: 0.4756 - accuracy: 0.7748 - val_loss: 0.5919 - val_accuracy: 0.6967\n",
      "Epoch 35/100\n",
      "64/64 [==============================] - 2s 25ms/step - loss: 0.4769 - accuracy: 0.7739 - val_loss: 0.4569 - val_accuracy: 0.7939\n",
      "Epoch 36/100\n",
      "64/64 [==============================] - 2s 25ms/step - loss: 0.4868 - accuracy: 0.7669 - val_loss: 0.4627 - val_accuracy: 0.7924\n",
      "Epoch 37/100\n",
      "64/64 [==============================] - 2s 25ms/step - loss: 0.4805 - accuracy: 0.7708 - val_loss: 0.4617 - val_accuracy: 0.7927\n",
      "Epoch 38/100\n",
      "64/64 [==============================] - 2s 25ms/step - loss: 0.4756 - accuracy: 0.7753 - val_loss: 0.4566 - val_accuracy: 0.7946\n",
      "Epoch 39/100\n",
      "64/64 [==============================] - 2s 24ms/step - loss: 0.4704 - accuracy: 0.7766 - val_loss: 0.4578 - val_accuracy: 0.7903\n",
      "Epoch 40/100\n",
      "64/64 [==============================] - 2s 25ms/step - loss: 0.4783 - accuracy: 0.7700 - val_loss: 0.4746 - val_accuracy: 0.7922\n",
      "Epoch 41/100\n",
      "64/64 [==============================] - 2s 25ms/step - loss: 0.4721 - accuracy: 0.7735 - val_loss: 0.4577 - val_accuracy: 0.7937\n",
      "Epoch 42/100\n",
      "64/64 [==============================] - 2s 25ms/step - loss: 0.4685 - accuracy: 0.7782 - val_loss: 0.4531 - val_accuracy: 0.7948\n",
      "Epoch 43/100\n",
      "64/64 [==============================] - 2s 25ms/step - loss: 0.4736 - accuracy: 0.7744 - val_loss: 0.4489 - val_accuracy: 0.7963\n",
      "Epoch 44/100\n",
      "64/64 [==============================] - 2s 25ms/step - loss: 0.4602 - accuracy: 0.7786 - val_loss: 0.5638 - val_accuracy: 0.7193\n",
      "Epoch 45/100\n",
      "64/64 [==============================] - 2s 24ms/step - loss: 0.4641 - accuracy: 0.7786 - val_loss: 0.4626 - val_accuracy: 0.7941\n",
      "Epoch 46/100\n",
      "64/64 [==============================] - 2s 25ms/step - loss: 0.4654 - accuracy: 0.7770 - val_loss: 0.4544 - val_accuracy: 0.7970\n",
      "Epoch 47/100\n",
      "64/64 [==============================] - 2s 25ms/step - loss: 0.4648 - accuracy: 0.7757 - val_loss: 0.4532 - val_accuracy: 0.7967\n",
      "Epoch 48/100\n",
      "64/64 [==============================] - 2s 25ms/step - loss: 0.4629 - accuracy: 0.7779 - val_loss: 0.4675 - val_accuracy: 0.7967\n",
      "25/25 [==============================] - 0s 11ms/step - loss: 0.4489 - accuracy: 0.7963\n"
     ]
    },
    {
     "data": {
      "text/plain": [
       "[0.4488629102706909, 0.7963128685951233]"
      ]
     },
     "execution_count": 5,
     "metadata": {},
     "output_type": "execute_result"
    }
   ],
   "source": [
    "from tensorflow import keras\n",
    "import tensorflow.keras.backend as K\n",
    "\n",
    "K.clear_session()\n",
    "model = keras.Sequential()\n",
    "model.add(keras.layers.LSTM(32, activation=\"tanh\", input_shape=(train_input.shape[1],1), return_sequences=True))\n",
    "model.add(keras.layers.LSTM(16, activation=\"tanh\", dropout=0.3, return_sequences=True))\n",
    "model.add(keras.layers.LSTM(8, activation=\"tanh\", return_sequences=True))\n",
    "model.add(keras.layers.TimeDistributed(keras.layers.Dense(1, activation='sigmoid')))\n",
    "\n",
    "model.summary()\n",
    "\n",
    "model.compile(optimizer='rmsprop', \n",
    "              loss='binary_crossentropy', \n",
    "              metrics=['accuracy'])\n",
    "\n",
    "early_stopping_cb = keras.callbacks.EarlyStopping(patience = 5, restore_best_weights=True)\n",
    "\n",
    "history = model.fit(train_input, train_target, \n",
    "                    epochs=100, batch_size = 50,\n",
    "                    validation_data = (val_input, val_target),\n",
    "                    callbacks=[early_stopping_cb])\n",
    "\n",
    "model.evaluate(val_input, val_target)"
   ]
  },
  {
   "cell_type": "code",
   "execution_count": null,
   "metadata": {},
   "outputs": [],
   "source": []
  }
 ],
 "metadata": {
  "interpreter": {
   "hash": "0e56d166fbc896341d80a58b1f49edfebe20bc75f207edfdf6ccda3bd4653dde"
  },
  "kernelspec": {
   "display_name": "Python 3.8.10 64-bit ('Senior_Fall_venv': venv)",
   "language": "python",
   "name": "python3"
  },
  "language_info": {
   "codemirror_mode": {
    "name": "ipython",
    "version": 3
   },
   "file_extension": ".py",
   "mimetype": "text/x-python",
   "name": "python",
   "nbconvert_exporter": "python",
   "pygments_lexer": "ipython3",
   "version": "3.8.10"
  },
  "orig_nbformat": 4
 },
 "nbformat": 4,
 "nbformat_minor": 2
}
