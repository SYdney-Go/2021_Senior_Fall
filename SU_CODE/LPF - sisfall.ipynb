{
 "cells": [
  {
   "cell_type": "code",
   "execution_count": 5144,
   "id": "05ac0b6a",
   "metadata": {},
   "outputs": [],
   "source": [
    "import numpy as np\n",
    "import pandas as pd\n",
    "from scipy.signal import butter, lfilter, freqz\n",
    "import matplotlib.pyplot as plt"
   ]
  },
  {
   "cell_type": "code",
   "execution_count": 5145,
   "id": "f230998d",
   "metadata": {},
   "outputs": [],
   "source": [
    "df = pd.read_csv('C:/Users/kss29/Desktop/sisfall data/SisFalldataset_modify/SisFalldataset_modify/SA14/F03_SA14_R01.csv',header = None)"
   ]
  },
  {
   "cell_type": "code",
   "execution_count": 5146,
   "id": "0442b327",
   "metadata": {},
   "outputs": [
    {
     "data": {
      "text/html": [
       "<div>\n",
       "<style scoped>\n",
       "    .dataframe tbody tr th:only-of-type {\n",
       "        vertical-align: middle;\n",
       "    }\n",
       "\n",
       "    .dataframe tbody tr th {\n",
       "        vertical-align: top;\n",
       "    }\n",
       "\n",
       "    .dataframe thead th {\n",
       "        text-align: right;\n",
       "    }\n",
       "</style>\n",
       "<table border=\"1\" class=\"dataframe\">\n",
       "  <thead>\n",
       "    <tr style=\"text-align: right;\">\n",
       "      <th></th>\n",
       "      <th>0</th>\n",
       "      <th>1</th>\n",
       "      <th>2</th>\n",
       "      <th>3</th>\n",
       "      <th>4</th>\n",
       "      <th>5</th>\n",
       "      <th>6</th>\n",
       "      <th>7</th>\n",
       "      <th>8</th>\n",
       "    </tr>\n",
       "  </thead>\n",
       "  <tbody>\n",
       "    <tr>\n",
       "      <th>0</th>\n",
       "      <td>6</td>\n",
       "      <td>-264</td>\n",
       "      <td>3</td>\n",
       "      <td>-58</td>\n",
       "      <td>54</td>\n",
       "      <td>-11</td>\n",
       "      <td>17</td>\n",
       "      <td>-1013</td>\n",
       "      <td>106</td>\n",
       "    </tr>\n",
       "    <tr>\n",
       "      <th>1</th>\n",
       "      <td>7</td>\n",
       "      <td>-267</td>\n",
       "      <td>0</td>\n",
       "      <td>-59</td>\n",
       "      <td>54</td>\n",
       "      <td>-14</td>\n",
       "      <td>17</td>\n",
       "      <td>-1013</td>\n",
       "      <td>106</td>\n",
       "    </tr>\n",
       "    <tr>\n",
       "      <th>2</th>\n",
       "      <td>6</td>\n",
       "      <td>-264</td>\n",
       "      <td>0</td>\n",
       "      <td>-59</td>\n",
       "      <td>52</td>\n",
       "      <td>-14</td>\n",
       "      <td>18</td>\n",
       "      <td>-1007</td>\n",
       "      <td>103</td>\n",
       "    </tr>\n",
       "    <tr>\n",
       "      <th>3</th>\n",
       "      <td>6</td>\n",
       "      <td>-262</td>\n",
       "      <td>2</td>\n",
       "      <td>-61</td>\n",
       "      <td>49</td>\n",
       "      <td>-16</td>\n",
       "      <td>12</td>\n",
       "      <td>-1005</td>\n",
       "      <td>105</td>\n",
       "    </tr>\n",
       "    <tr>\n",
       "      <th>4</th>\n",
       "      <td>5</td>\n",
       "      <td>-262</td>\n",
       "      <td>2</td>\n",
       "      <td>-61</td>\n",
       "      <td>45</td>\n",
       "      <td>-17</td>\n",
       "      <td>12</td>\n",
       "      <td>-1003</td>\n",
       "      <td>113</td>\n",
       "    </tr>\n",
       "  </tbody>\n",
       "</table>\n",
       "</div>"
      ],
      "text/plain": [
       "   0    1  2   3   4   5   6     7    8\n",
       "0  6 -264  3 -58  54 -11  17 -1013  106\n",
       "1  7 -267  0 -59  54 -14  17 -1013  106\n",
       "2  6 -264  0 -59  52 -14  18 -1007  103\n",
       "3  6 -262  2 -61  49 -16  12 -1005  105\n",
       "4  5 -262  2 -61  45 -17  12 -1003  113"
      ]
     },
     "execution_count": 5146,
     "metadata": {},
     "output_type": "execute_result"
    }
   ],
   "source": [
    "df.head()"
   ]
  },
  {
   "cell_type": "code",
   "execution_count": 5147,
   "id": "c86d24de",
   "metadata": {},
   "outputs": [],
   "source": [
    "columns = df.columns"
   ]
  },
  {
   "cell_type": "code",
   "execution_count": 5148,
   "id": "a7c680ce",
   "metadata": {},
   "outputs": [
    {
     "name": "stdout",
     "output_type": "stream",
     "text": [
      "Int64Index([0, 1, 2, 3, 4, 5, 6, 7, 8], dtype='int64')\n"
     ]
    }
   ],
   "source": [
    "print(df.columns)"
   ]
  },
  {
   "cell_type": "code",
   "execution_count": 5149,
   "id": "7b641680",
   "metadata": {},
   "outputs": [],
   "source": [
    "sis_data = list()\n",
    "for i in columns:\n",
    "    sis_data.append(df[i].to_numpy())"
   ]
  },
  {
   "cell_type": "code",
   "execution_count": 5150,
   "id": "088501db",
   "metadata": {},
   "outputs": [],
   "source": [
    "div_100 = list()\n",
    "for i in sis_data:\n",
    "     div_100.append(i /100)"
   ]
  },
  {
   "cell_type": "code",
   "execution_count": 5151,
   "id": "31ad78dd",
   "metadata": {},
   "outputs": [
    {
     "data": {
      "text/plain": [
       "[array([ 0.06,  0.07,  0.06, ..., -2.58, -2.61, -2.58]),\n",
       " array([-2.64, -2.67, -2.64, ..., -0.08, -0.07, -0.07]),\n",
       " array([ 0.03,  0.  ,  0.  , ..., -0.61, -0.61, -0.61]),\n",
       " array([-0.58, -0.59, -0.59, ..., -0.03, -0.04, -0.02]),\n",
       " array([0.54, 0.54, 0.52, ..., 0.54, 0.54, 0.54]),\n",
       " array([-0.11, -0.14, -0.14, ...,  0.  , -0.01,  0.  ]),\n",
       " array([ 0.17,  0.17,  0.18, ..., -9.93, -9.93, -9.93]),\n",
       " array([-10.13, -10.13, -10.07, ...,  -0.14,  -0.1 ,  -0.12]),\n",
       " array([ 1.06,  1.06,  1.03, ..., -1.54, -1.55, -1.53])]"
      ]
     },
     "execution_count": 5151,
     "metadata": {},
     "output_type": "execute_result"
    }
   ],
   "source": [
    "div_100"
   ]
  },
  {
   "cell_type": "code",
   "execution_count": 5152,
   "id": "64bad61b",
   "metadata": {},
   "outputs": [],
   "source": [
    "import math"
   ]
  },
  {
   "cell_type": "code",
   "execution_count": 5153,
   "id": "3cc84a8a",
   "metadata": {},
   "outputs": [],
   "source": [
    "def butter_lowpass(cutoff, fs, order=4):\n",
    "    nyq = 0.5 * fs\n",
    "    normal_cutoff = cutoff / nyq\n",
    "    b, a = butter(order, normal_cutoff, btype='low', analog=False)\n",
    "    return b, a\n",
    "\n",
    "def butter_lowpass_filter(data, cutoff, fs, order=4):\n",
    "    b, a = butter_lowpass(cutoff, fs, order=order)\n",
    "    x = np.trunc(np.array(data, dtype=np.float64)).astype(np.int64)\n",
    "    y = lfilter(b, a, x, axis=-1, zi=None)\n",
    "    return y\n",
    "\n",
    "# Setting standard filter requirements.\n",
    "order = 4\n",
    "fs = 200\n",
    "cutoff = 5\n",
    "\n",
    "b, a = butter_lowpass(cutoff, fs, order)\n",
    "\n",
    "# Creating the data for filteration\n",
    "T = 200         # value taken in seconds\n",
    "n = int(T * fs) # indicates total samples\n",
    "t = np.linspace(0, T, n, endpoint=False)"
   ]
  },
  {
   "cell_type": "code",
   "execution_count": 5154,
   "id": "9b9860e4",
   "metadata": {},
   "outputs": [],
   "source": [
    "for k, value in enumerate(div_100,1):\n",
    "    globals()['y_{}'.format(k)] = butter_lowpass_filter(value, cutoff, fs, order)"
   ]
  },
  {
   "cell_type": "code",
   "execution_count": 5155,
   "id": "bb9d9625",
   "metadata": {},
   "outputs": [],
   "source": [
    "new_data = []\n",
    "data_int = [y_1, y_2, y_3, y_4, y_5, y_6, y_7, y_8, y_9]\n",
    "\n",
    "for i in data_int: \n",
    "    new = i.astype(int)\n",
    "    new_data.append(new)"
   ]
  },
  {
   "cell_type": "code",
   "execution_count": 5156,
   "id": "6ab955d4",
   "metadata": {},
   "outputs": [
    {
     "data": {
      "text/plain": [
       "[array([ 0,  0,  0, ..., -1, -1, -1]),\n",
       " array([0, 0, 0, ..., 0, 0, 0]),\n",
       " array([0, 0, 0, ..., 0, 0, 0]),\n",
       " array([0, 0, 0, ..., 0, 0, 0]),\n",
       " array([0, 0, 0, ..., 0, 0, 0]),\n",
       " array([0, 0, 0, ..., 0, 0, 0]),\n",
       " array([ 0,  0,  0, ..., -9, -9, -9]),\n",
       " array([0, 0, 0, ..., 0, 0, 0]),\n",
       " array([0, 0, 0, ..., 0, 0, 0])]"
      ]
     },
     "execution_count": 5156,
     "metadata": {},
     "output_type": "execute_result"
    }
   ],
   "source": [
    "new_data"
   ]
  },
  {
   "cell_type": "code",
   "execution_count": 5157,
   "id": "0965631c",
   "metadata": {},
   "outputs": [],
   "source": [
    "df_new = pd.DataFrame(new_data)\n",
    "df_new = df_new.transpose()\n",
    "df_new.to_csv('C:/Users/kss29/Data_handling/study/LPF/FALL/F03_SA14_R01_LPF.csv')"
   ]
  },
  {
   "cell_type": "code",
   "execution_count": null,
   "id": "dc8231bc",
   "metadata": {},
   "outputs": [],
   "source": []
  }
 ],
 "metadata": {
  "kernelspec": {
   "display_name": "Python 3",
   "language": "python",
   "name": "python3"
  },
  "language_info": {
   "codemirror_mode": {
    "name": "ipython",
    "version": 3
   },
   "file_extension": ".py",
   "mimetype": "text/x-python",
   "name": "python",
   "nbconvert_exporter": "python",
   "pygments_lexer": "ipython3",
   "version": "3.8.8"
  }
 },
 "nbformat": 4,
 "nbformat_minor": 5
}
