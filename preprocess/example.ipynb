{
 "cells": [
  {
   "cell_type": "code",
   "execution_count": 1,
   "id": "fad6a242",
   "metadata": {},
   "outputs": [],
   "source": [
    "import numpy as np"
   ]
  },
  {
   "cell_type": "code",
   "execution_count": 2,
   "id": "ca9dc4ff",
   "metadata": {},
   "outputs": [
    {
     "name": "stdout",
     "output_type": "stream",
     "text": [
      "[[1 2 3]\n",
      " [4 5 6]]\n",
      "--------------------\n",
      "shape = (2, 3)\n"
     ]
    }
   ],
   "source": [
    "# 2차원 행렬.\n",
    "x1 = np.array([[1,2,3],[4,5,6]])\n",
    "print(x1)\n",
    "print('-'*20)\n",
    "print(f'shape = {x1.shape}')"
   ]
  },
  {
   "cell_type": "code",
   "execution_count": 3,
   "id": "6a4b5b2f",
   "metadata": {},
   "outputs": [
    {
     "name": "stdout",
     "output_type": "stream",
     "text": [
      "[[ 7  8  9]\n",
      " [10 11 12]]\n",
      "--------------------\n",
      "shape = (2, 3)\n"
     ]
    }
   ],
   "source": [
    "# 또다른 2차원 행렬.\n",
    "x2 = np.array([[7,8,9],[10,11,12]])\n",
    "print(x2)\n",
    "print('-'*20)\n",
    "print(f'shape = {x2.shape}')"
   ]
  },
  {
   "cell_type": "code",
   "execution_count": 4,
   "id": "4f17ddb4",
   "metadata": {},
   "outputs": [
    {
     "name": "stdout",
     "output_type": "stream",
     "text": [
      "[[13 14 15]\n",
      " [16 17 18]]\n",
      "--------------------\n",
      "shape = (2, 3)\n"
     ]
    }
   ],
   "source": [
    "# 또다른 2차원 행렬.\n",
    "x3 = np.array([[13,14,15],[16,17,18]])\n",
    "print(x3)\n",
    "print('-'*20)\n",
    "print(f'shape = {x3.shape}')"
   ]
  },
  {
   "cell_type": "code",
   "execution_count": 5,
   "id": "7fdb9310",
   "metadata": {},
   "outputs": [],
   "source": [
    "# 3차원 배열로 재구성.\n",
    "x1 = x1[np.newaxis, :]\n",
    "x2 = x2[np.newaxis, :]\n",
    "x3 = x3[np.newaxis, :]"
   ]
  },
  {
   "cell_type": "code",
   "execution_count": 6,
   "id": "2d938dac",
   "metadata": {},
   "outputs": [
    {
     "name": "stdout",
     "output_type": "stream",
     "text": [
      "(1, 2, 3)\n",
      "(1, 2, 3)\n",
      "(1, 2, 3)\n"
     ]
    }
   ],
   "source": [
    "# 각각의 shape를 본다.\n",
    "print(x1.shape)\n",
    "print(x2.shape)\n",
    "print(x3.shape)"
   ]
  },
  {
   "cell_type": "code",
   "execution_count": 7,
   "id": "b7a3995b",
   "metadata": {},
   "outputs": [
    {
     "data": {
      "text/plain": [
       "array([[[ 1,  2,  3],\n",
       "        [ 4,  5,  6]],\n",
       "\n",
       "       [[ 7,  8,  9],\n",
       "        [10, 11, 12]],\n",
       "\n",
       "       [[13, 14, 15],\n",
       "        [16, 17, 18]]])"
      ]
     },
     "execution_count": 7,
     "metadata": {},
     "output_type": "execute_result"
    }
   ],
   "source": [
    "# axis = 0 방향으로 이어 붙인다.\n",
    "x_total = np.concatenate([x1,x2,x3], axis=0)\n",
    "x_total"
   ]
  },
  {
   "cell_type": "code",
   "execution_count": 8,
   "id": "23def64b",
   "metadata": {},
   "outputs": [
    {
     "data": {
      "text/plain": [
       "(3, 2, 3)"
      ]
     },
     "execution_count": 8,
     "metadata": {},
     "output_type": "execute_result"
    }
   ],
   "source": [
    "# 최종적으로 shape를 본다.\n",
    "x_total.shape"
   ]
  },
  {
   "cell_type": "code",
   "execution_count": null,
   "id": "e9f27fd5",
   "metadata": {},
   "outputs": [],
   "source": []
  }
 ],
 "metadata": {
  "kernelspec": {
   "display_name": "Python 3",
   "language": "python",
   "name": "python3"
  },
  "language_info": {
   "codemirror_mode": {
    "name": "ipython",
    "version": 3
   },
   "file_extension": ".py",
   "mimetype": "text/x-python",
   "name": "python",
   "nbconvert_exporter": "python",
   "pygments_lexer": "ipython3",
   "version": "3.8.10"
  }
 },
 "nbformat": 4,
 "nbformat_minor": 5
}
