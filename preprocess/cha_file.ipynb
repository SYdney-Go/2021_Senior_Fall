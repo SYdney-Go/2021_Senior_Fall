{
 "cells": [
  {
   "cell_type": "code",
   "execution_count": 1,
   "metadata": {},
   "outputs": [],
   "source": [
    "# 두 행간의 차를 구해주는 함수\n",
    "\n",
    "### Sisfall의 데이터 파일 불러오기\n",
    "import csv\n",
    "\n",
    "f = open('../Dataset/SA01/D01_SA01_R01.csv', 'r')\n",
    "rdr = csv.reader(f)\n",
    "file = []\n",
    "for line in rdr:\n",
    "    if ';' in line[-1]:\n",
    "        line[-1] =  line[-1].replace(';','')\n",
    "    file.append(line)\n",
    "f.close()\n",
    "\n",
    "### 두 행의 차를 담고 있는 csv 파일 만들기\n",
    "f = open('test.csv', 'w', encoding='utf-8')\n",
    "wr = csv.writer(f)\n",
    "\n",
    "cha_all = []\n",
    "\n",
    "for i in range(len(file)-1):\n",
    "    cha = []\n",
    "    for j in range(len(file[i])):\n",
    "        if ';' in file[i][-1]:\n",
    "            file[i][-1] = file[i][-1].replace(';', '')\n",
    "        new = int(file[i][j]) - int(file[i+1][j])\n",
    "        cha.append(new)\n",
    "    cha_all.append(cha)\n",
    "\n",
    "wr.writerows(cha_all)\n",
    "f.close()\n"
   ]
  },
  {
   "cell_type": "code",
   "execution_count": null,
   "metadata": {},
   "outputs": [],
   "source": []
  }
 ],
 "metadata": {
  "interpreter": {
   "hash": "0e56d166fbc896341d80a58b1f49edfebe20bc75f207edfdf6ccda3bd4653dde"
  },
  "kernelspec": {
   "display_name": "Python 3.8.10 64-bit ('Senior_Fall_venv': venv)",
   "name": "python3"
  },
  "language_info": {
   "codemirror_mode": {
    "name": "ipython",
    "version": 3
   },
   "file_extension": ".py",
   "mimetype": "text/x-python",
   "name": "python",
   "nbconvert_exporter": "python",
   "pygments_lexer": "ipython3",
   "version": "3.8.10"
  },
  "orig_nbformat": 4
 },
 "nbformat": 4,
 "nbformat_minor": 2
}
