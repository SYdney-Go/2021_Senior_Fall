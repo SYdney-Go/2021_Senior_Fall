{
 "cells": [
  {
   "cell_type": "code",
   "execution_count": 2,
   "metadata": {},
   "outputs": [],
   "source": [
    "import pandas as pd\n",
    "import numpy as np\n",
    "import os"
   ]
  },
  {
   "cell_type": "code",
   "execution_count": 3,
   "metadata": {},
   "outputs": [
    {
     "data": {
      "text/plain": [
       "3572"
      ]
     },
     "execution_count": 3,
     "metadata": {},
     "output_type": "execute_result"
    }
   ],
   "source": [
    "paths = []\n",
    "\n",
    "for i in range(1, 20):\n",
    "    root, file = os.path.split(\"../Dataset/SA01/D01_SA01_R01.csv\")\n",
    "    if i < 10:\n",
    "        file = file[:2] + str(i) + file[3:]\n",
    "        tmp = os.path.join(root, file)\n",
    "        paths.append(tmp)\n",
    "        if i > 4:\n",
    "            for j in range(2, 6):\n",
    "                file_new = file[:-5] + str(j) + file[-4:]\n",
    "                tmp = os.path.join(root, file_new)\n",
    "                paths.append(tmp)\n",
    "    if i >= 10:\n",
    "        file = file[:1] + str(i) + file[3:]\n",
    "        for j in range(1, 6):\n",
    "            file = file[:-5] + str(j) + file[-4:]\n",
    "            tmp = os.path.join(root, file)\n",
    "            paths.append(tmp)\n",
    "\n",
    "paths[4:14] = ['../Dataset/SA01/D05_SA01_R01_1.csv',\n",
    "                '../Dataset/SA01/D05_SA01_R01_2.csv',\n",
    "                '../Dataset/SA01/D05_SA01_R02_1.csv',\n",
    "                '../Dataset/SA01/D05_SA01_R02_2.csv',\n",
    "                '../Dataset/SA01/D05_SA01_R03_1.csv',\n",
    "                '../Dataset/SA01/D05_SA01_R03_2.csv',\n",
    "                '../Dataset/SA01/D05_SA01_R04_1.csv',\n",
    "                '../Dataset/SA01/D05_SA01_R04_2.csv',\n",
    "                '../Dataset/SA01/D05_SA01_R05_1.csv',\n",
    "                '../Dataset/SA01/D05_SA01_R05_2.csv',\n",
    "                '../Dataset/SA01/D06_SA01_R01_1.csv',\n",
    "                '../Dataset/SA01/D06_SA01_R01_2.csv',\n",
    "                '../Dataset/SA01/D06_SA01_R02_1.csv',\n",
    "                '../Dataset/SA01/D06_SA01_R02_2.csv',\n",
    "                '../Dataset/SA01/D06_SA01_R03_1.csv',\n",
    "                '../Dataset/SA01/D06_SA01_R03_2.csv',\n",
    "                '../Dataset/SA01/D06_SA01_R04_1.csv',\n",
    "                '../Dataset/SA01/D06_SA01_R04_2.csv',\n",
    "                '../Dataset/SA01/D06_SA01_R05_1.csv',\n",
    "                '../Dataset/SA01/D06_SA01_R05_2.csv']\n",
    "\n",
    "paths[-15:-10] = ['../Dataset/SA01/D17_SA01_R01_1.csv',\n",
    "                 '../Dataset/SA01/D17_SA01_R01_2.csv',\n",
    "                 '../Dataset/SA01/D17_SA01_R02_1.csv',\n",
    "                 '../Dataset/SA01/D17_SA01_R02_2.csv',\n",
    "                 '../Dataset/SA01/D17_SA01_R03_1.csv',\n",
    "                 '../Dataset/SA01/D17_SA01_R03_2.csv',\n",
    "                 '../Dataset/SA01/D17_SA01_R04_1.csv',\n",
    "                 '../Dataset/SA01/D17_SA01_R04_2.csv',\n",
    "                 '../Dataset/SA01/D17_SA01_R05_1.csv',\n",
    "                 '../Dataset/SA01/D17_SA01_R05_2.csv']\n",
    "\n",
    "\n",
    "subject_list = ['SA01', 'SA02', 'SA03', 'SA04', 'SA05',\n",
    "                'SA06', 'SA07', 'SA08', 'SA09', 'SA10',\n",
    "                'SA11', 'SA12', 'SA13', 'SA14', 'SA15',\n",
    "                'SA16', 'SA17', 'SA18', 'SA19', 'SA20',\n",
    "                'SA21', 'SA22', 'SA23',\n",
    "                'SE01', 'SE02', 'SE03', 'SE04', 'SE05',\n",
    "                'SE06', 'SE07', 'SE08', 'SE09', 'SE10',\n",
    "                'SE11', 'SE12', 'SE13', 'SE14', 'SE15']\n",
    "\n",
    "\n",
    "total_path = []\n",
    "\n",
    "for path in paths:\n",
    "    for subject_name in subject_list:\n",
    "        path_rename = path.replace('SA01', subject_name)\n",
    "        total_path.append(path_rename)\n",
    "\n",
    "len(total_path)"
   ]
  },
  {
   "cell_type": "code",
   "execution_count": 4,
   "metadata": {},
   "outputs": [],
   "source": [
    "list = []\n",
    "final = pd.DataFrame(list)\n",
    "\n",
    "for path in total_path:\n",
    "    try:\n",
    "        data = pd.read_csv(path, header=None)\n",
    "        data = data.iloc[:, :3]\n",
    "        rows, cols = data.shape\n",
    "\n",
    "        sliced_df = data[0 : 160]\n",
    "\n",
    "        col_1_r = sliced_df[0].to_numpy().astype(int)\n",
    "        col_2_r = sliced_df[1].to_numpy().astype(int)\n",
    "        col_3_r = sliced_df[2].to_numpy().astype(int)\n",
    "\n",
    "        col_1 = col_1_r*col_1_r\n",
    "        col_2 = col_2_r*col_2_r\n",
    "        col_3 = col_3_r*col_3_r\n",
    "\n",
    "        C_nine = np.sqrt(col_1 + col_2 + col_3)\n",
    "        list_C_nine = pd.DataFrame(C_nine).transpose().round()\n",
    "        final = final.append(list_C_nine)\n",
    "        \n",
    "    except:\n",
    "        pass\n",
    "\n",
    "# pd.set_option('display.max_row', 500)\n",
    "# pd.set_option('display.max_columns', 100)\n",
    "\n",
    "row, col = final.shape\n",
    "target_col = row * [0]\n",
    "final.loc[:,'target'] = target_col\n",
    "\n",
    "final = np.asarray(final)\n",
    "final.shape"
   ]
  },
  {
   "cell_type": "code",
   "execution_count": null,
   "metadata": {},
   "outputs": [
    {
     "ename": "NameError",
     "evalue": "name 'final' is not defined",
     "output_type": "error",
     "traceback": [
      "\u001b[0;31m---------------------------------------------------------------------------\u001b[0m",
      "\u001b[0;31mNameError\u001b[0m                                 Traceback (most recent call last)",
      "\u001b[0;32m/tmp/ipykernel_51728/4008947530.py\u001b[0m in \u001b[0;36m<module>\u001b[0;34m\u001b[0m\n\u001b[0;32m----> 1\u001b[0;31m \u001b[0mfinal\u001b[0m\u001b[0;34m.\u001b[0m\u001b[0mto_csv\u001b[0m\u001b[0;34m(\u001b[0m\u001b[0;34m'1125_ADL.csv'\u001b[0m\u001b[0;34m,\u001b[0m \u001b[0mindex\u001b[0m\u001b[0;34m=\u001b[0m\u001b[0;32mFalse\u001b[0m\u001b[0;34m)\u001b[0m\u001b[0;34m\u001b[0m\u001b[0;34m\u001b[0m\u001b[0m\n\u001b[0m",
      "\u001b[0;31mNameError\u001b[0m: name 'final' is not defined"
     ]
    }
   ],
   "source": [
    "final.to_csv('1125_ADL.csv', index=False)"
   ]
  },
  {
   "cell_type": "code",
   "execution_count": null,
   "metadata": {},
   "outputs": [],
   "source": []
  },
  {
   "cell_type": "code",
   "execution_count": null,
   "metadata": {},
   "outputs": [],
   "source": []
  }
 ],
 "metadata": {
  "interpreter": {
   "hash": "0e56d166fbc896341d80a58b1f49edfebe20bc75f207edfdf6ccda3bd4653dde"
  },
  "kernelspec": {
   "display_name": "Python 3.8.10 64-bit ('Senior_Fall_venv': venv)",
   "language": "python",
   "name": "python3"
  },
  "language_info": {
   "codemirror_mode": {
    "name": "ipython",
    "version": 3
   },
   "file_extension": ".py",
   "mimetype": "text/x-python",
   "name": "python",
   "nbconvert_exporter": "python",
   "pygments_lexer": "ipython3",
   "version": "3.8.10"
  },
  "orig_nbformat": 4
 },
 "nbformat": 4,
 "nbformat_minor": 2
}
