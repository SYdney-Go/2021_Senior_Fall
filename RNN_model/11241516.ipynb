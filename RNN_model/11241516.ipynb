{
 "cells": [
  {
   "cell_type": "code",
   "execution_count": 45,
   "metadata": {},
   "outputs": [],
   "source": [
    "import pandas as pd\n",
    "\n",
    "data = pd.read_csv('../preprocess/202111171547_all.csv')\n",
    "df = pd.DataFrame(data)\n",
    "df = df.dropna()\n",
    "data = df.iloc[:, :-1]\n",
    "target = df['target']"
   ]
  },
  {
   "cell_type": "code",
   "execution_count": 46,
   "metadata": {},
   "outputs": [],
   "source": [
    "from sklearn.model_selection import train_test_split\n",
    "\n",
    "train_input, test_input, train_target, test_target = train_test_split(data, target, test_size=0.2, stratify=target, random_state=0)\n",
    "train_input, val_input, train_target, val_target = train_test_split(train_input, train_target, test_size=0.2, stratify=train_target, random_state=0)"
   ]
  },
  {
   "cell_type": "code",
   "execution_count": 47,
   "metadata": {},
   "outputs": [
    {
     "name": "stdout",
     "output_type": "stream",
     "text": [
      "Model: \"sequential\"\n",
      "_________________________________________________________________\n",
      " Layer (type)                Output Shape              Param #   \n",
      "=================================================================\n",
      " simple_rnn (SimpleRNN)      (None, 160, 32)           1088      \n",
      "                                                                 \n",
      " simple_rnn_1 (SimpleRNN)    (None, 16)                784       \n",
      "                                                                 \n",
      " dense (Dense)               (None, 1)                 17        \n",
      "                                                                 \n",
      "=================================================================\n",
      "Total params: 1,889\n",
      "Trainable params: 1,889\n",
      "Non-trainable params: 0\n",
      "_________________________________________________________________\n"
     ]
    }
   ],
   "source": [
    "from tensorflow import keras\n",
    "import tensorflow.keras.backend as K\n",
    "\n",
    "K.clear_session()\n",
    "model = keras.Sequential()\n",
    "model.add(keras.layers.SimpleRNN(32, activation=\"tanh\", input_shape=(train_input.shape[1],1), return_sequences=True))\n",
    "model.add(keras.layers.SimpleRNN(16, activation=\"tanh\", dropout=0.3))\n",
    "model.add(keras.layers.Dense(1, activation=\"relu\"))\n",
    "\n",
    "model.summary()"
   ]
  },
  {
   "cell_type": "code",
   "execution_count": 48,
   "metadata": {},
   "outputs": [
    {
     "name": "stdout",
     "output_type": "stream",
     "text": [
      "Epoch 1/100\n",
      "64/64 [==============================] - 4s 40ms/step - loss: 3.6294 - accuracy: 0.5806 - val_loss: 0.7011 - val_accuracy: 0.6528\n",
      "Epoch 2/100\n",
      "64/64 [==============================] - 2s 38ms/step - loss: 1.9767 - accuracy: 0.5374 - val_loss: 0.6624 - val_accuracy: 0.6440\n",
      "Epoch 3/100\n",
      "64/64 [==============================] - 2s 36ms/step - loss: 1.1339 - accuracy: 0.5711 - val_loss: 0.6410 - val_accuracy: 0.6579\n",
      "Epoch 4/100\n",
      "64/64 [==============================] - 2s 38ms/step - loss: 0.7610 - accuracy: 0.6164 - val_loss: 0.5785 - val_accuracy: 0.8138\n",
      "Epoch 5/100\n",
      "64/64 [==============================] - 2s 35ms/step - loss: 0.6702 - accuracy: 0.7316 - val_loss: 0.5034 - val_accuracy: 0.7962\n",
      "Epoch 6/100\n",
      "64/64 [==============================] - 2s 34ms/step - loss: 0.6119 - accuracy: 0.7634 - val_loss: 0.4923 - val_accuracy: 0.7950\n",
      "Epoch 7/100\n",
      "64/64 [==============================] - 2s 34ms/step - loss: 0.5809 - accuracy: 0.7907 - val_loss: 0.5449 - val_accuracy: 0.8214\n",
      "Epoch 8/100\n",
      "64/64 [==============================] - 2s 35ms/step - loss: 0.5784 - accuracy: 0.8040 - val_loss: 0.5348 - val_accuracy: 0.8063\n",
      "Epoch 9/100\n",
      "64/64 [==============================] - 2s 35ms/step - loss: 0.5827 - accuracy: 0.8194 - val_loss: 0.6013 - val_accuracy: 0.8201\n",
      "Epoch 10/100\n",
      "64/64 [==============================] - 2s 35ms/step - loss: 0.6203 - accuracy: 0.8250 - val_loss: 0.6250 - val_accuracy: 0.8289\n",
      "Epoch 11/100\n",
      "64/64 [==============================] - 2s 35ms/step - loss: 0.7358 - accuracy: 0.8210 - val_loss: 0.7356 - val_accuracy: 0.8327\n",
      "Epoch 12/100\n",
      "64/64 [==============================] - 2s 34ms/step - loss: 0.6533 - accuracy: 0.8011 - val_loss: 0.6220 - val_accuracy: 0.7560\n",
      "Epoch 13/100\n",
      "64/64 [==============================] - 2s 34ms/step - loss: 0.6101 - accuracy: 0.8213 - val_loss: 0.6115 - val_accuracy: 0.8075\n",
      "Epoch 14/100\n",
      "64/64 [==============================] - 2s 34ms/step - loss: 0.6171 - accuracy: 0.8272 - val_loss: 0.6298 - val_accuracy: 0.8302\n",
      "Epoch 15/100\n",
      "64/64 [==============================] - 2s 36ms/step - loss: 0.6566 - accuracy: 0.8257 - val_loss: 0.6388 - val_accuracy: 0.8352\n",
      "Epoch 16/100\n",
      "64/64 [==============================] - 2s 34ms/step - loss: 0.5858 - accuracy: 0.8096 - val_loss: 0.5764 - val_accuracy: 0.8000\n",
      "Epoch 17/100\n",
      "64/64 [==============================] - 2s 35ms/step - loss: 0.5940 - accuracy: 0.8301 - val_loss: 0.6593 - val_accuracy: 0.8340\n",
      "Epoch 18/100\n",
      "64/64 [==============================] - 2s 36ms/step - loss: 0.5685 - accuracy: 0.8156 - val_loss: 0.5595 - val_accuracy: 0.8063\n",
      "Epoch 19/100\n",
      "64/64 [==============================] - 2s 35ms/step - loss: 0.5667 - accuracy: 0.8320 - val_loss: 0.5414 - val_accuracy: 0.8176\n",
      "Epoch 20/100\n",
      "64/64 [==============================] - 2s 35ms/step - loss: 0.5797 - accuracy: 0.8313 - val_loss: 0.6300 - val_accuracy: 0.8377\n",
      "Epoch 21/100\n",
      "64/64 [==============================] - 2s 34ms/step - loss: 0.6429 - accuracy: 0.8291 - val_loss: 0.6241 - val_accuracy: 0.8327\n"
     ]
    }
   ],
   "source": [
    "model.compile(optimizer='rmsprop', \n",
    "              loss='binary_crossentropy', \n",
    "              metrics=['accuracy'])\n",
    "\n",
    "checkpoint_cb = keras.callbacks.ModelCheckpoint('11241516-best-rnn-model.h5')\n",
    "early_stopping_cb = keras.callbacks.EarlyStopping(patience = 15, restore_best_weights=True)\n",
    "\n",
    "history = model.fit(train_input, train_target, \n",
    "                    epochs=100, batch_size = 50,\n",
    "                    validation_data = (val_input, val_target),\n",
    "                    callbacks=[checkpoint_cb, early_stopping_cb])"
   ]
  },
  {
   "cell_type": "code",
   "execution_count": 49,
   "metadata": {},
   "outputs": [
    {
     "name": "stdout",
     "output_type": "stream",
     "text": [
      "25/25 [==============================] - 0s 8ms/step - loss: 0.4923 - accuracy: 0.7950\n"
     ]
    },
    {
     "data": {
      "text/plain": [
       "[0.4923427700996399, 0.7949685454368591]"
      ]
     },
     "execution_count": 49,
     "metadata": {},
     "output_type": "execute_result"
    }
   ],
   "source": [
    "model.evaluate(val_input, val_target)"
   ]
  },
  {
   "cell_type": "code",
   "execution_count": 50,
   "metadata": {},
   "outputs": [
    {
     "name": "stdout",
     "output_type": "stream",
     "text": [
      "32/32 [==============================] - 0s 9ms/step - loss: 0.4705 - accuracy: 0.8119\n"
     ]
    },
    {
     "data": {
      "text/plain": [
       "[0.4705266058444977, 0.8118712306022644]"
      ]
     },
     "execution_count": 50,
     "metadata": {},
     "output_type": "execute_result"
    }
   ],
   "source": [
    "model.evaluate(test_input, test_target)"
   ]
  },
  {
   "cell_type": "code",
   "execution_count": null,
   "metadata": {},
   "outputs": [],
   "source": []
  },
  {
   "cell_type": "code",
   "execution_count": null,
   "metadata": {},
   "outputs": [],
   "source": []
  }
 ],
 "metadata": {
  "interpreter": {
   "hash": "0e56d166fbc896341d80a58b1f49edfebe20bc75f207edfdf6ccda3bd4653dde"
  },
  "kernelspec": {
   "display_name": "Python 3.8.10 64-bit ('Senior_Fall_venv': venv)",
   "language": "python",
   "name": "python3"
  },
  "language_info": {
   "codemirror_mode": {
    "name": "ipython",
    "version": 3
   },
   "file_extension": ".py",
   "mimetype": "text/x-python",
   "name": "python",
   "nbconvert_exporter": "python",
   "pygments_lexer": "ipython3",
   "version": "3.8.10"
  },
  "orig_nbformat": 4
 },
 "nbformat": 4,
 "nbformat_minor": 2
}
