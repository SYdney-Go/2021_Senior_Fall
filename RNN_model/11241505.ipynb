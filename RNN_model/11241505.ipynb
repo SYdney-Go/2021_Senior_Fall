{
 "cells": [
  {
   "cell_type": "code",
   "execution_count": 29,
   "metadata": {},
   "outputs": [],
   "source": [
    "import pandas as pd\n",
    "\n",
    "data = pd.read_csv('../preprocess/202111171547_all.csv')\n",
    "df = pd.DataFrame(data)\n",
    "df = df.dropna()\n",
    "data = df.iloc[:, :-1]\n",
    "target = df['target']"
   ]
  },
  {
   "cell_type": "code",
   "execution_count": 30,
   "metadata": {},
   "outputs": [],
   "source": [
    "from sklearn.model_selection import train_test_split\n",
    "\n",
    "train_input, test_input, train_target, test_target = train_test_split(data, target, test_size=0.2, stratify=target, random_state=0)\n",
    "train_input, val_input, train_target, val_target = train_test_split(train_input, train_target, test_size=0.2, stratify=train_target, random_state=0)"
   ]
  },
  {
   "cell_type": "code",
   "execution_count": 31,
   "metadata": {},
   "outputs": [
    {
     "name": "stdout",
     "output_type": "stream",
     "text": [
      "Model: \"sequential\"\n",
      "_________________________________________________________________\n",
      " Layer (type)                Output Shape              Param #   \n",
      "=================================================================\n",
      " simple_rnn (SimpleRNN)      (None, 160, 15)           255       \n",
      "                                                                 \n",
      " simple_rnn_1 (SimpleRNN)    (None, 7)                 161       \n",
      "                                                                 \n",
      " dense (Dense)               (None, 1)                 8         \n",
      "                                                                 \n",
      "=================================================================\n",
      "Total params: 424\n",
      "Trainable params: 424\n",
      "Non-trainable params: 0\n",
      "_________________________________________________________________\n"
     ]
    }
   ],
   "source": [
    "from tensorflow import keras\n",
    "import tensorflow.keras.backend as K\n",
    "\n",
    "K.clear_session()\n",
    "model = keras.Sequential()\n",
    "model.add(keras.layers.SimpleRNN(15, activation=\"tanh\", input_shape=(train_input.shape[1],1), return_sequences=True))\n",
    "model.add(keras.layers.SimpleRNN(7, activation=\"tanh\", dropout=0.3))\n",
    "model.add(keras.layers.Dense(1, activation=\"relu\"))\n",
    "\n",
    "model.summary()"
   ]
  },
  {
   "cell_type": "code",
   "execution_count": 32,
   "metadata": {},
   "outputs": [
    {
     "name": "stdout",
     "output_type": "stream",
     "text": [
      "Epoch 1/100\n",
      "64/64 [==============================] - 4s 41ms/step - loss: 4.5625 - accuracy: 0.5535 - val_loss: 1.4981 - val_accuracy: 0.6440\n",
      "Epoch 2/100\n",
      "64/64 [==============================] - 2s 36ms/step - loss: 4.4390 - accuracy: 0.5472 - val_loss: 5.4909 - val_accuracy: 0.6440\n",
      "Epoch 3/100\n",
      "64/64 [==============================] - 2s 37ms/step - loss: 3.6820 - accuracy: 0.5651 - val_loss: 5.4909 - val_accuracy: 0.6440\n",
      "Epoch 4/100\n",
      "64/64 [==============================] - 2s 35ms/step - loss: 3.4369 - accuracy: 0.5809 - val_loss: 1.5416 - val_accuracy: 0.6440\n",
      "Epoch 5/100\n",
      "64/64 [==============================] - 2s 34ms/step - loss: 2.9024 - accuracy: 0.5636 - val_loss: 0.6520 - val_accuracy: 0.6440\n",
      "Epoch 6/100\n",
      "64/64 [==============================] - 2s 35ms/step - loss: 1.8854 - accuracy: 0.5532 - val_loss: 0.6573 - val_accuracy: 0.6440\n",
      "Epoch 7/100\n",
      "64/64 [==============================] - 2s 34ms/step - loss: 1.5055 - accuracy: 0.5135 - val_loss: 0.6725 - val_accuracy: 0.6491\n",
      "Epoch 8/100\n",
      "64/64 [==============================] - 2s 35ms/step - loss: 0.8925 - accuracy: 0.5544 - val_loss: 0.6858 - val_accuracy: 0.6440\n",
      "Epoch 9/100\n",
      "64/64 [==============================] - 2s 34ms/step - loss: 0.7365 - accuracy: 0.6224 - val_loss: 0.6532 - val_accuracy: 0.6440\n",
      "Epoch 10/100\n",
      "64/64 [==============================] - 2s 34ms/step - loss: 0.6740 - accuracy: 0.6397 - val_loss: 0.6501 - val_accuracy: 0.6440\n",
      "Epoch 11/100\n",
      "64/64 [==============================] - 2s 34ms/step - loss: 0.6722 - accuracy: 0.6435 - val_loss: 0.6512 - val_accuracy: 0.6440\n",
      "Epoch 12/100\n",
      "64/64 [==============================] - 2s 34ms/step - loss: 0.6560 - accuracy: 0.6441 - val_loss: 0.6508 - val_accuracy: 0.6440\n",
      "Epoch 13/100\n",
      "64/64 [==============================] - 2s 34ms/step - loss: 0.6601 - accuracy: 0.6444 - val_loss: 0.6474 - val_accuracy: 0.6440\n",
      "Epoch 14/100\n",
      "64/64 [==============================] - 2s 35ms/step - loss: 0.6557 - accuracy: 0.6441 - val_loss: 0.6444 - val_accuracy: 0.6440\n",
      "Epoch 15/100\n",
      "64/64 [==============================] - 2s 34ms/step - loss: 0.6565 - accuracy: 0.6482 - val_loss: 0.6351 - val_accuracy: 0.6440\n",
      "Epoch 16/100\n",
      "64/64 [==============================] - 2s 35ms/step - loss: 0.6407 - accuracy: 0.6728 - val_loss: 0.5901 - val_accuracy: 0.7145\n",
      "Epoch 17/100\n",
      "64/64 [==============================] - 2s 35ms/step - loss: 0.6053 - accuracy: 0.7561 - val_loss: 0.5466 - val_accuracy: 0.7912\n",
      "Epoch 18/100\n",
      "64/64 [==============================] - 2s 35ms/step - loss: 0.5880 - accuracy: 0.7860 - val_loss: 0.5754 - val_accuracy: 0.7912\n",
      "Epoch 19/100\n",
      "64/64 [==============================] - 2s 34ms/step - loss: 0.5697 - accuracy: 0.8103 - val_loss: 0.5616 - val_accuracy: 0.8075\n",
      "Epoch 20/100\n",
      "64/64 [==============================] - 2s 34ms/step - loss: 0.5719 - accuracy: 0.8232 - val_loss: 0.6437 - val_accuracy: 0.8340\n",
      "Epoch 21/100\n",
      "64/64 [==============================] - 2s 35ms/step - loss: 0.6021 - accuracy: 0.8121 - val_loss: 0.7080 - val_accuracy: 0.8352\n",
      "Epoch 22/100\n",
      "64/64 [==============================] - 2s 35ms/step - loss: 0.5817 - accuracy: 0.8140 - val_loss: 0.6691 - val_accuracy: 0.8164\n",
      "Epoch 23/100\n",
      "64/64 [==============================] - 2s 34ms/step - loss: 0.5793 - accuracy: 0.8011 - val_loss: 0.5811 - val_accuracy: 0.8214\n",
      "Epoch 24/100\n",
      "64/64 [==============================] - 2s 35ms/step - loss: 0.5557 - accuracy: 0.8143 - val_loss: 0.6410 - val_accuracy: 0.8340\n",
      "Epoch 25/100\n",
      "64/64 [==============================] - 2s 35ms/step - loss: 0.5933 - accuracy: 0.8052 - val_loss: 0.5804 - val_accuracy: 0.7962\n",
      "Epoch 26/100\n",
      "64/64 [==============================] - 2s 35ms/step - loss: 0.6155 - accuracy: 0.8222 - val_loss: 0.6661 - val_accuracy: 0.8340\n",
      "Epoch 27/100\n",
      "64/64 [==============================] - 2s 35ms/step - loss: 0.6104 - accuracy: 0.8181 - val_loss: 0.5820 - val_accuracy: 0.8189\n",
      "Epoch 28/100\n",
      "64/64 [==============================] - 2s 34ms/step - loss: 0.6640 - accuracy: 0.8254 - val_loss: 0.6439 - val_accuracy: 0.8302\n",
      "Epoch 29/100\n",
      "64/64 [==============================] - 2s 35ms/step - loss: 0.5744 - accuracy: 0.8260 - val_loss: 0.9765 - val_accuracy: 0.8277\n",
      "Epoch 30/100\n",
      "64/64 [==============================] - 2s 34ms/step - loss: 0.7154 - accuracy: 0.8272 - val_loss: 0.7431 - val_accuracy: 0.8352\n",
      "Epoch 31/100\n",
      "64/64 [==============================] - 2s 35ms/step - loss: 0.6247 - accuracy: 0.7873 - val_loss: 0.5698 - val_accuracy: 0.8164\n",
      "Epoch 32/100\n",
      "64/64 [==============================] - 2s 35ms/step - loss: 0.6338 - accuracy: 0.8291 - val_loss: 0.6534 - val_accuracy: 0.8277\n"
     ]
    }
   ],
   "source": [
    "model.compile(optimizer='rmsprop', \n",
    "              loss='binary_crossentropy', \n",
    "              metrics=['accuracy'])\n",
    "\n",
    "checkpoint_cb = keras.callbacks.ModelCheckpoint('11241505-best-lstm-model.h5')\n",
    "early_stopping_cb = keras.callbacks.EarlyStopping(patience = 15, restore_best_weights=True)\n",
    "\n",
    "history = model.fit(train_input, train_target, \n",
    "                    epochs=100, batch_size = 50,\n",
    "                    validation_data = (val_input, val_target),\n",
    "                    callbacks=[checkpoint_cb, early_stopping_cb])"
   ]
  },
  {
   "cell_type": "code",
   "execution_count": 33,
   "metadata": {},
   "outputs": [
    {
     "name": "stdout",
     "output_type": "stream",
     "text": [
      "25/25 [==============================] - 0s 9ms/step - loss: 0.5466 - accuracy: 0.7912\n"
     ]
    },
    {
     "data": {
      "text/plain": [
       "[0.5466133952140808, 0.7911949753761292]"
      ]
     },
     "execution_count": 33,
     "metadata": {},
     "output_type": "execute_result"
    }
   ],
   "source": [
    "model.evaluate(val_input, val_target)"
   ]
  },
  {
   "cell_type": "code",
   "execution_count": 34,
   "metadata": {},
   "outputs": [
    {
     "name": "stdout",
     "output_type": "stream",
     "text": [
      "32/32 [==============================] - 0s 8ms/step - loss: 0.5038 - accuracy: 0.8038\n"
     ]
    },
    {
     "data": {
      "text/plain": [
       "[0.5038419365882874, 0.803822934627533]"
      ]
     },
     "execution_count": 34,
     "metadata": {},
     "output_type": "execute_result"
    }
   ],
   "source": [
    "model.evaluate(test_input, test_target)"
   ]
  },
  {
   "cell_type": "code",
   "execution_count": null,
   "metadata": {},
   "outputs": [],
   "source": []
  },
  {
   "cell_type": "code",
   "execution_count": null,
   "metadata": {},
   "outputs": [],
   "source": []
  },
  {
   "cell_type": "code",
   "execution_count": null,
   "metadata": {},
   "outputs": [],
   "source": []
  }
 ],
 "metadata": {
  "interpreter": {
   "hash": "0e56d166fbc896341d80a58b1f49edfebe20bc75f207edfdf6ccda3bd4653dde"
  },
  "kernelspec": {
   "display_name": "Python 3.8.10 64-bit ('Senior_Fall_venv': venv)",
   "language": "python",
   "name": "python3"
  },
  "language_info": {
   "codemirror_mode": {
    "name": "ipython",
    "version": 3
   },
   "file_extension": ".py",
   "mimetype": "text/x-python",
   "name": "python",
   "nbconvert_exporter": "python",
   "pygments_lexer": "ipython3",
   "version": "3.8.10"
  },
  "orig_nbformat": 4
 },
 "nbformat": 4,
 "nbformat_minor": 2
}
